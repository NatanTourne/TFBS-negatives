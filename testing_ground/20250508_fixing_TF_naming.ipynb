{
 "cells": [
  {
   "cell_type": "code",
   "execution_count": 12,
   "id": "96cfff48",
   "metadata": {},
   "outputs": [],
   "source": [
    "import h5torch\n",
    "import numpy as np\n",
    "import torch\n",
    "import pytorch_lightning as pl\n",
    "import warnings\n",
    "from pytorch_lightning.callbacks import Callback"
   ]
  },
  {
   "cell_type": "code",
   "execution_count": 13,
   "id": "7fb2ba5c",
   "metadata": {},
   "outputs": [],
   "source": [
    "celltype_file = \"/data/home/natant/Negatives/Data/Encode690/ENCODE_hg38_subset_101bp_celltypes_ATAC_H5_all_chr_BACKUP/A549_COPY.h5t\"\n",
    "file = h5torch.File(celltype_file, 'r')"
   ]
  },
  {
   "cell_type": "code",
   "execution_count": 14,
   "id": "994589d2",
   "metadata": {},
   "outputs": [],
   "source": [
    "sampled_names = [i for i in file[\"unstructured\"].keys() if i.split(\"_\")[0] == \"sampled\"]"
   ]
  },
  {
   "cell_type": "code",
   "execution_count": 15,
   "id": "f1cdba61",
   "metadata": {},
   "outputs": [
    {
     "data": {
      "text/plain": [
       "['sampled_negs_ATF3_chr',\n",
       " 'sampled_negs_ATF3_len',\n",
       " 'sampled_negs_ATF3_pos',\n",
       " 'sampled_negs_BHLHE40_chr',\n",
       " 'sampled_negs_BHLHE40_len',\n",
       " 'sampled_negs_BHLHE40_pos',\n",
       " 'sampled_negs_CREB1_chr',\n",
       " 'sampled_negs_CREB1_len',\n",
       " 'sampled_negs_CREB1_pos',\n",
       " 'sampled_negs_CTCF_chr',\n",
       " 'sampled_negs_CTCF_len',\n",
       " 'sampled_negs_CTCF_pos',\n",
       " 'sampled_negs_ELF1_chr',\n",
       " 'sampled_negs_ELF1_len',\n",
       " 'sampled_negs_ELF1_pos',\n",
       " 'sampled_negs_ETS1_chr',\n",
       " 'sampled_negs_ETS1_len',\n",
       " 'sampled_negs_ETS1_pos',\n",
       " 'sampled_negs_FOSL2_chr',\n",
       " 'sampled_negs_FOSL2_len',\n",
       " 'sampled_negs_FOSL2_pos',\n",
       " 'sampled_negs_FOXA1_chr',\n",
       " 'sampled_negs_FOXA1_len',\n",
       " 'sampled_negs_FOXA1_pos',\n",
       " 'sampled_negs_Max_chr',\n",
       " 'sampled_negs_Max_len',\n",
       " 'sampled_negs_Max_pos',\n",
       " 'sampled_negs_SIX5_chr',\n",
       " 'sampled_negs_SIX5_len',\n",
       " 'sampled_negs_SIX5_pos',\n",
       " 'sampled_negs_TCF12_chr',\n",
       " 'sampled_negs_TCF12_len',\n",
       " 'sampled_negs_TCF12_pos',\n",
       " 'sampled_negs_USF-1_chr',\n",
       " 'sampled_negs_USF-1_len',\n",
       " 'sampled_negs_USF-1_pos',\n",
       " 'sampled_negs_YY1_chr',\n",
       " 'sampled_negs_YY1_len',\n",
       " 'sampled_negs_YY1_pos',\n",
       " 'sampled_negs_ZBTB33_chr',\n",
       " 'sampled_negs_ZBTB33_len',\n",
       " 'sampled_negs_ZBTB33_pos']"
      ]
     },
     "execution_count": 15,
     "metadata": {},
     "output_type": "execute_result"
    }
   ],
   "source": [
    "sampled_names"
   ]
  },
  {
   "cell_type": "code",
   "execution_count": 16,
   "id": "d34fbeb4",
   "metadata": {},
   "outputs": [],
   "source": [
    "prot_names = file[\"0/prot_names\"][:].astype(str).tolist()"
   ]
  },
  {
   "cell_type": "code",
   "execution_count": 17,
   "id": "0d372761",
   "metadata": {},
   "outputs": [],
   "source": [
    "problematic_names = [i for i in prot_names if len(i.split(\"_\"))>1]\n",
    "problematic_names.remove(\"ATAC_peak\")"
   ]
  },
  {
   "cell_type": "code",
   "execution_count": 18,
   "id": "b8eaf4b7",
   "metadata": {},
   "outputs": [
    {
     "data": {
      "text/plain": [
       "['YY1_(SC-281)', 'CREB1_(SC-240)', 'ELF1_(SC-631)', 'FOXA1_(SC-101058)']"
      ]
     },
     "execution_count": 18,
     "metadata": {},
     "output_type": "execute_result"
    }
   ],
   "source": [
    "problematic_names"
   ]
  },
  {
   "cell_type": "code",
   "execution_count": null,
   "id": "8583c4ac",
   "metadata": {},
   "outputs": [],
   "source": [
    "for name in problematic_names:\n",
    "    wrong_name_chr = 'sampled_negs_' + name.split(\"_\")[1]+'_chr'\n",
    "    wrong_name_len = 'sampled_negs_' + name.split(\"_\")[1]+'_len'\n",
    "    wrong_name_pos = 'sampled_negs_' + name.split(\"_\")[1]+'_pos'\n",
    "    right_name_chr = 'sampled_negs_' + name +'_chr'\n",
    "    right_name_len = 'sampled_negs_' + name +'_len'\n",
    "    right_name_pos = 'sampled_negs_' + name +'_pos'\n",
    "    file.move(f\"unstructured/{wrong_name_chr}\", f\"unstructured/{right_name_chr}\")\n",
    "    file.move(f\"unstructured/{wrong_name_len}\", f\"unstructured/{right_name_len}\")\n",
    "    file.move(f\"unstructured/{wrong_name_pos}\", f\"unstructured/{right_name_pos}\")\n",
    "    "
   ]
  },
  {
   "cell_type": "code",
   "execution_count": 26,
   "id": "f94d4305",
   "metadata": {},
   "outputs": [],
   "source": [
    "import os\n",
    "\n",
    "data_folder = \"/data/home/natant/Negatives/Data/Encode690/ENCODE_hg38_subset_101bp_celltypes_ATAC_H5_all_chr/\"\n",
    "h5t_files = [f for f in os.listdir(data_folder) if f.endswith('.h5t')]\n",
    "\n",
    "for h5t_file in h5t_files:\n",
    "    file_path = os.path.join(data_folder, h5t_file)\n",
    "    file = h5torch.File(file_path, 'r+')\n",
    "    \n",
    "    prot_names = file[\"0/prot_names\"][:].astype(str).tolist()\n",
    "    problematic_names = [i for i in prot_names if len(i.split(\"_\")) > 1]\n",
    "    if \"ATAC_peak\" in problematic_names:\n",
    "        problematic_names.remove(\"ATAC_peak\")\n",
    "    \n",
    "    for name in problematic_names:\n",
    "        wrong_name_chr = 'sampled_negs_' + name.split(\"_\")[0] + '_chr'\n",
    "        wrong_name_len = 'sampled_negs_' + name.split(\"_\")[0] + '_len'\n",
    "        wrong_name_pos = 'sampled_negs_' + name.split(\"_\")[0] + '_pos'\n",
    "        right_name_chr = 'sampled_negs_' + name + '_chr'\n",
    "        right_name_len = 'sampled_negs_' + name + '_len'\n",
    "        right_name_pos = 'sampled_negs_' + name + '_pos'\n",
    "        \n",
    "        file.move(f\"unstructured/{wrong_name_chr}\", f\"unstructured/{right_name_chr}\")\n",
    "        file.move(f\"unstructured/{wrong_name_len}\", f\"unstructured/{right_name_len}\")\n",
    "        file.move(f\"unstructured/{wrong_name_pos}\", f\"unstructured/{right_name_pos}\")\n",
    "    \n",
    "    file.close()"
   ]
  },
  {
   "cell_type": "code",
   "execution_count": 29,
   "id": "3c2317f0",
   "metadata": {},
   "outputs": [
    {
     "data": {
      "text/plain": [
       "['MCF-7.h5t',\n",
       " 'GM12878.h5t',\n",
       " 'HepG2.h5t',\n",
       " 'IMR90.h5t',\n",
       " 'HCT-116.h5t',\n",
       " 'PANC-1.h5t',\n",
       " 'K562.h5t',\n",
       " 'HEK293.h5t',\n",
       " 'A549.h5t']"
      ]
     },
     "execution_count": 29,
     "metadata": {},
     "output_type": "execute_result"
    }
   ],
   "source": [
    "h5t_files"
   ]
  },
  {
   "cell_type": "code",
   "execution_count": 28,
   "id": "12db3659",
   "metadata": {},
   "outputs": [
    {
     "data": {
      "text/plain": [
       "'A549.h5t'"
      ]
     },
     "execution_count": 28,
     "metadata": {},
     "output_type": "execute_result"
    }
   ],
   "source": [
    "h5t_file"
   ]
  },
  {
   "cell_type": "code",
   "execution_count": 27,
   "id": "17a99d64",
   "metadata": {},
   "outputs": [
    {
     "data": {
      "text/plain": [
       "['YY1_(SC-281)', 'CREB1_(SC-240)', 'ELF1_(SC-631)', 'FOXA1_(SC-101058)']"
      ]
     },
     "execution_count": 27,
     "metadata": {},
     "output_type": "execute_result"
    }
   ],
   "source": [
    "problematic_names"
   ]
  },
  {
   "cell_type": "code",
   "execution_count": 22,
   "id": "e1b06541",
   "metadata": {},
   "outputs": [
    {
     "data": {
      "text/plain": [
       "['MCF-7.h5t',\n",
       " 'GM12878.h5t',\n",
       " 'HepG2.h5t',\n",
       " 'IMR90.h5t',\n",
       " 'HCT-116.h5t',\n",
       " 'PANC-1.h5t',\n",
       " 'K562.h5t',\n",
       " 'HEK293.h5t',\n",
       " 'A549.h5t',\n",
       " 'A549_COPY.h5t']"
      ]
     },
     "execution_count": 22,
     "metadata": {},
     "output_type": "execute_result"
    }
   ],
   "source": [
    "h5t_files"
   ]
  },
  {
   "cell_type": "code",
   "execution_count": 24,
   "id": "0ca9dad1",
   "metadata": {},
   "outputs": [],
   "source": [
    "celltype_file = \"/data/home/natant/Negatives/Data/Encode690/ENCODE_hg38_subset_101bp_celltypes_ATAC_H5_all_chr_BACKUP/GM12878.h5t\"\n",
    "file = h5torch.File(celltype_file, 'r')"
   ]
  },
  {
   "cell_type": "code",
   "execution_count": 25,
   "id": "b2605a67",
   "metadata": {},
   "outputs": [
    {
     "data": {
      "text/plain": [
       "<KeysViewHDF5 ['chr1', 'chr10', 'chr10_GL383545v1_alt', 'chr10_GL383546v1_alt', 'chr10_KI270824v1_alt', 'chr10_KI270825v1_alt', 'chr11', 'chr11_GL383547v1_alt', 'chr11_JH159136v1_alt', 'chr11_JH159137v1_alt', 'chr11_KI270721v1_random', 'chr11_KI270826v1_alt', 'chr11_KI270827v1_alt', 'chr11_KI270829v1_alt', 'chr11_KI270830v1_alt', 'chr11_KI270831v1_alt', 'chr11_KI270832v1_alt', 'chr11_KI270902v1_alt', 'chr11_KI270903v1_alt', 'chr11_KI270927v1_alt', 'chr12', 'chr12_GL383549v1_alt', 'chr12_GL383550v2_alt', 'chr12_GL383551v1_alt', 'chr12_GL383552v1_alt', 'chr12_GL383553v2_alt', 'chr12_GL877875v1_alt', 'chr12_GL877876v1_alt', 'chr12_KI270833v1_alt', 'chr12_KI270834v1_alt', 'chr12_KI270835v1_alt', 'chr12_KI270836v1_alt', 'chr12_KI270837v1_alt', 'chr12_KI270904v1_alt', 'chr13', 'chr13_KI270838v1_alt', 'chr13_KI270839v1_alt', 'chr13_KI270840v1_alt', 'chr13_KI270841v1_alt', 'chr13_KI270842v1_alt', 'chr13_KI270843v1_alt', 'chr14', 'chr14_GL000009v2_random', 'chr14_GL000194v1_random', 'chr14_GL000225v1_random', 'chr14_KI270722v1_random', 'chr14_KI270723v1_random', 'chr14_KI270724v1_random', 'chr14_KI270725v1_random', 'chr14_KI270726v1_random', 'chr14_KI270844v1_alt', 'chr14_KI270845v1_alt', 'chr14_KI270846v1_alt', 'chr14_KI270847v1_alt', 'chr15', 'chr15_GL383554v1_alt', 'chr15_GL383555v2_alt', 'chr15_KI270727v1_random', 'chr15_KI270848v1_alt', 'chr15_KI270849v1_alt', 'chr15_KI270850v1_alt', 'chr15_KI270851v1_alt', 'chr15_KI270852v1_alt', 'chr15_KI270905v1_alt', 'chr15_KI270906v1_alt', 'chr16', 'chr16_GL383556v1_alt', 'chr16_GL383557v1_alt', 'chr16_KI270728v1_random', 'chr16_KI270853v1_alt', 'chr16_KI270854v1_alt', 'chr16_KI270855v1_alt', 'chr16_KI270856v1_alt', 'chr17', 'chr17_GL000205v2_random', 'chr17_GL000258v2_alt', 'chr17_GL383563v3_alt', 'chr17_GL383564v2_alt', 'chr17_GL383565v1_alt', 'chr17_GL383566v1_alt', 'chr17_JH159146v1_alt', 'chr17_JH159147v1_alt', 'chr17_JH159148v1_alt', 'chr17_KI270729v1_random', 'chr17_KI270730v1_random', 'chr17_KI270857v1_alt', 'chr17_KI270858v1_alt', 'chr17_KI270859v1_alt', 'chr17_KI270860v1_alt', 'chr17_KI270861v1_alt', 'chr17_KI270862v1_alt', 'chr17_KI270907v1_alt', 'chr17_KI270908v1_alt', 'chr17_KI270909v1_alt', 'chr17_KI270910v1_alt', 'chr18', 'chr18_GL383567v1_alt', 'chr18_GL383568v1_alt', 'chr18_GL383569v1_alt', 'chr18_GL383570v1_alt', 'chr18_GL383571v1_alt', 'chr18_GL383572v1_alt', 'chr18_KI270863v1_alt', 'chr18_KI270864v1_alt', 'chr18_KI270911v1_alt', 'chr18_KI270912v1_alt', 'chr19', 'chr19_GL000209v2_alt', 'chr19_GL383573v1_alt', 'chr19_GL383574v1_alt', 'chr19_GL383575v2_alt', 'chr19_GL383576v1_alt', 'chr19_GL949746v1_alt', 'chr19_GL949747v2_alt', 'chr19_GL949748v2_alt', 'chr19_GL949749v2_alt', 'chr19_GL949750v2_alt', 'chr19_GL949751v2_alt', 'chr19_GL949752v1_alt', 'chr19_GL949753v2_alt', 'chr19_KI270865v1_alt', 'chr19_KI270866v1_alt', 'chr19_KI270867v1_alt', 'chr19_KI270868v1_alt', 'chr19_KI270882v1_alt', 'chr19_KI270883v1_alt', 'chr19_KI270884v1_alt', 'chr19_KI270885v1_alt', 'chr19_KI270886v1_alt', 'chr19_KI270887v1_alt', 'chr19_KI270888v1_alt', 'chr19_KI270889v1_alt', 'chr19_KI270890v1_alt', 'chr19_KI270891v1_alt', 'chr19_KI270914v1_alt', 'chr19_KI270915v1_alt', 'chr19_KI270916v1_alt', 'chr19_KI270917v1_alt', 'chr19_KI270918v1_alt', 'chr19_KI270919v1_alt', 'chr19_KI270920v1_alt', 'chr19_KI270921v1_alt', 'chr19_KI270922v1_alt', 'chr19_KI270923v1_alt', 'chr19_KI270929v1_alt', 'chr19_KI270930v1_alt', 'chr19_KI270931v1_alt', 'chr19_KI270932v1_alt', 'chr19_KI270933v1_alt', 'chr19_KI270938v1_alt', 'chr1_GL383518v1_alt', 'chr1_GL383519v1_alt', 'chr1_GL383520v2_alt', 'chr1_KI270706v1_random', 'chr1_KI270707v1_random', 'chr1_KI270708v1_random', 'chr1_KI270709v1_random', 'chr1_KI270710v1_random', 'chr1_KI270711v1_random', 'chr1_KI270712v1_random', 'chr1_KI270713v1_random', 'chr1_KI270714v1_random', 'chr1_KI270759v1_alt', 'chr1_KI270760v1_alt', 'chr1_KI270761v1_alt', 'chr1_KI270762v1_alt', 'chr1_KI270763v1_alt', 'chr1_KI270764v1_alt', 'chr1_KI270765v1_alt', 'chr1_KI270766v1_alt', 'chr1_KI270892v1_alt', 'chr2', 'chr20', 'chr20_GL383577v2_alt', 'chr20_KI270869v1_alt', 'chr20_KI270870v1_alt', 'chr20_KI270871v1_alt', 'chr21', 'chr21_GL383578v2_alt', 'chr21_GL383579v2_alt', 'chr21_GL383580v2_alt', 'chr21_GL383581v2_alt', 'chr21_KI270872v1_alt', 'chr21_KI270873v1_alt', 'chr21_KI270874v1_alt', 'chr22', 'chr22_GL383582v2_alt', 'chr22_GL383583v2_alt', 'chr22_KB663609v1_alt', 'chr22_KI270731v1_random', 'chr22_KI270732v1_random', 'chr22_KI270733v1_random', 'chr22_KI270734v1_random', 'chr22_KI270735v1_random', 'chr22_KI270736v1_random', 'chr22_KI270737v1_random', 'chr22_KI270738v1_random', 'chr22_KI270739v1_random', 'chr22_KI270875v1_alt', 'chr22_KI270876v1_alt', 'chr22_KI270877v1_alt', 'chr22_KI270878v1_alt', 'chr22_KI270879v1_alt', 'chr22_KI270928v1_alt', 'chr2_GL383521v1_alt', 'chr2_GL383522v1_alt', 'chr2_GL582966v2_alt', 'chr2_KI270715v1_random', 'chr2_KI270716v1_random', 'chr2_KI270767v1_alt', 'chr2_KI270768v1_alt', 'chr2_KI270769v1_alt', 'chr2_KI270770v1_alt', 'chr2_KI270771v1_alt', 'chr2_KI270772v1_alt', 'chr2_KI270773v1_alt', 'chr2_KI270774v1_alt', 'chr2_KI270775v1_alt', 'chr2_KI270776v1_alt', 'chr2_KI270893v1_alt', 'chr2_KI270894v1_alt', 'chr3', 'chr3_GL000221v1_random', 'chr3_GL383526v1_alt', 'chr3_JH636055v2_alt', 'chr3_KI270777v1_alt', 'chr3_KI270778v1_alt', 'chr3_KI270779v1_alt', 'chr3_KI270780v1_alt', 'chr3_KI270781v1_alt', 'chr3_KI270782v1_alt', 'chr3_KI270783v1_alt', 'chr3_KI270784v1_alt', 'chr3_KI270895v1_alt', 'chr3_KI270924v1_alt', 'chr3_KI270934v1_alt', 'chr3_KI270935v1_alt', 'chr3_KI270936v1_alt', 'chr3_KI270937v1_alt', 'chr4', 'chr4_GL000008v2_random', 'chr4_GL000257v2_alt', 'chr4_GL383527v1_alt', 'chr4_GL383528v1_alt', 'chr4_KI270785v1_alt', 'chr4_KI270786v1_alt', 'chr4_KI270787v1_alt', 'chr4_KI270788v1_alt', 'chr4_KI270789v1_alt', 'chr4_KI270790v1_alt', 'chr4_KI270896v1_alt', 'chr4_KI270925v1_alt', 'chr5', 'chr5_GL000208v1_random', 'chr5_GL339449v2_alt', 'chr5_GL383530v1_alt', 'chr5_GL383531v1_alt', 'chr5_GL383532v1_alt', 'chr5_GL949742v1_alt', 'chr5_KI270791v1_alt', 'chr5_KI270792v1_alt', 'chr5_KI270793v1_alt', 'chr5_KI270794v1_alt', 'chr5_KI270795v1_alt', 'chr5_KI270796v1_alt', 'chr5_KI270897v1_alt', 'chr5_KI270898v1_alt', 'chr6', 'chr6_GL000250v2_alt', 'chr6_GL000251v2_alt', 'chr6_GL000252v2_alt', 'chr6_GL000253v2_alt', 'chr6_GL000254v2_alt', 'chr6_GL000255v2_alt', 'chr6_GL000256v2_alt', 'chr6_GL383533v1_alt', 'chr6_KB021644v2_alt', 'chr6_KI270758v1_alt', 'chr6_KI270797v1_alt', 'chr6_KI270798v1_alt', 'chr6_KI270799v1_alt', 'chr6_KI270800v1_alt', 'chr6_KI270801v1_alt', 'chr6_KI270802v1_alt', 'chr7', 'chr7_GL383534v2_alt', 'chr7_KI270803v1_alt', 'chr7_KI270804v1_alt', 'chr7_KI270805v1_alt', 'chr7_KI270806v1_alt', 'chr7_KI270807v1_alt', 'chr7_KI270808v1_alt', 'chr7_KI270809v1_alt', 'chr7_KI270899v1_alt', 'chr8', 'chr8_KI270810v1_alt', 'chr8_KI270811v1_alt', 'chr8_KI270812v1_alt', 'chr8_KI270813v1_alt', 'chr8_KI270814v1_alt', 'chr8_KI270815v1_alt', 'chr8_KI270816v1_alt', 'chr8_KI270817v1_alt', 'chr8_KI270818v1_alt', 'chr8_KI270819v1_alt', 'chr8_KI270820v1_alt', 'chr8_KI270821v1_alt', 'chr8_KI270822v1_alt', 'chr8_KI270900v1_alt', 'chr8_KI270901v1_alt', 'chr8_KI270926v1_alt', 'chr9', 'chr9_GL383539v1_alt', 'chr9_GL383540v1_alt', 'chr9_GL383541v1_alt', 'chr9_GL383542v1_alt', 'chr9_KI270717v1_random', 'chr9_KI270718v1_random', 'chr9_KI270719v1_random', 'chr9_KI270720v1_random', 'chr9_KI270823v1_alt', 'chrX', 'chrX_KI270880v1_alt', 'chrX_KI270881v1_alt', 'chrX_KI270913v1_alt', 'chrY', 'chrY_KI270740v1_random', 'dinucl_ATF2_(SC-81188)_chrs', 'dinucl_ATF2_(SC-81188)_seqs', 'dinucl_ATF3_chrs', 'dinucl_ATF3_seqs', 'dinucl_CEBPB_(SC-150)_chrs', 'dinucl_CEBPB_(SC-150)_seqs', 'dinucl_CTCF_chrs', 'dinucl_CTCF_seqs', 'dinucl_ELF1_(SC-631)_chrs', 'dinucl_ELF1_(SC-631)_seqs', 'dinucl_ELK1_(1277-1)_chrs', 'dinucl_ELK1_(1277-1)_seqs', 'dinucl_ETS1_chrs', 'dinucl_ETS1_seqs', 'dinucl_Egr-1_chrs', 'dinucl_Egr-1_seqs', 'dinucl_FOXM1_(SC-502)_chrs', 'dinucl_FOXM1_(SC-502)_seqs', 'dinucl_IKZF1_(IkN)_(UCLA)_chrs', 'dinucl_IKZF1_(IkN)_(UCLA)_seqs', 'dinucl_JunD_chrs', 'dinucl_JunD_seqs', 'dinucl_MAZ_(ab85725)_chrs', 'dinucl_MAZ_(ab85725)_seqs', 'dinucl_MEF2A_chrs', 'dinucl_MEF2A_seqs', 'dinucl_Max_chrs', 'dinucl_Max_seqs', 'dinucl_Mxi1_(AF4185)_chrs', 'dinucl_Mxi1_(AF4185)_seqs', 'dinucl_NF-YA_chrs', 'dinucl_NF-YA_seqs', 'dinucl_NF-YB_chrs', 'dinucl_NF-YB_seqs', 'dinucl_NFIC_(SC-81335)_chrs', 'dinucl_NFIC_(SC-81335)_seqs', 'dinucl_Nrf1_chrs', 'dinucl_Nrf1_seqs', 'dinucl_Pbx3_chrs', 'dinucl_Pbx3_seqs', 'dinucl_RFX5_(200-401-194)_chrs', 'dinucl_RFX5_(200-401-194)_seqs', 'dinucl_RXRA_chrs', 'dinucl_RXRA_seqs', 'dinucl_SIX5_chrs', 'dinucl_SIX5_seqs', 'dinucl_SP1_chrs', 'dinucl_SP1_seqs', 'dinucl_SRF_chrs', 'dinucl_SRF_seqs', 'dinucl_STAT5A_(SC-74442)_chrs', 'dinucl_STAT5A_(SC-74442)_seqs', 'dinucl_TBP_chrs', 'dinucl_TBP_seqs', 'dinucl_TCF12_chrs', 'dinucl_TCF12_seqs', 'dinucl_USF-1_chrs', 'dinucl_USF-1_seqs', 'dinucl_USF2_chrs', 'dinucl_USF2_seqs', 'dinucl_YY1_(SC-281)_chrs', 'dinucl_YY1_(SC-281)_seqs', 'dinucl_ZBTB33_chrs', 'dinucl_ZBTB33_seqs', 'dinucl_ZEB1_(SC-25388)_chrs', 'dinucl_ZEB1_(SC-25388)_seqs', 'dinucl_ZNF274_chrs', 'dinucl_ZNF274_seqs', 'dinucl_ZZZ3_chrs', 'dinucl_ZZZ3_seqs', 'dinucl_Znf143_(16618-1-AP)_chrs', 'dinucl_Znf143_(16618-1-AP)_seqs', 'sampled_negs_ATF2_(SC-81188)_chr', 'sampled_negs_ATF2_(SC-81188)_len', 'sampled_negs_ATF2_(SC-81188)_pos', 'sampled_negs_ATF3_chr', 'sampled_negs_ATF3_len', 'sampled_negs_ATF3_pos', 'sampled_negs_CEBPB_(SC-150)_chr', 'sampled_negs_CEBPB_(SC-150)_len', 'sampled_negs_CEBPB_(SC-150)_pos', 'sampled_negs_CTCF_chr', 'sampled_negs_CTCF_len', 'sampled_negs_CTCF_pos', 'sampled_negs_ELF1_(SC-631)_chr', 'sampled_negs_ELF1_(SC-631)_len', 'sampled_negs_ELF1_(SC-631)_pos', 'sampled_negs_ELK1_(1277-1)_chr', 'sampled_negs_ELK1_(1277-1)_len', 'sampled_negs_ELK1_(1277-1)_pos', 'sampled_negs_ETS1_chr', 'sampled_negs_ETS1_len', 'sampled_negs_ETS1_pos', 'sampled_negs_Egr-1_chr', 'sampled_negs_Egr-1_len', 'sampled_negs_Egr-1_pos', 'sampled_negs_FOXM1_(SC-502)_chr', 'sampled_negs_FOXM1_(SC-502)_len', 'sampled_negs_FOXM1_(SC-502)_pos', 'sampled_negs_IKZF1_(IkN)_(UCLA)_chr', 'sampled_negs_IKZF1_(IkN)_(UCLA)_len', 'sampled_negs_IKZF1_(IkN)_(UCLA)_pos', 'sampled_negs_JunD_chr', 'sampled_negs_JunD_len', 'sampled_negs_JunD_pos', 'sampled_negs_MAZ_(ab85725)_chr', 'sampled_negs_MAZ_(ab85725)_len', 'sampled_negs_MAZ_(ab85725)_pos', 'sampled_negs_MEF2A_chr', 'sampled_negs_MEF2A_len', 'sampled_negs_MEF2A_pos', 'sampled_negs_Max_chr', 'sampled_negs_Max_len', 'sampled_negs_Max_pos', 'sampled_negs_Mxi1_(AF4185)_chr', 'sampled_negs_Mxi1_(AF4185)_len', 'sampled_negs_Mxi1_(AF4185)_pos', 'sampled_negs_NF-YA_chr', 'sampled_negs_NF-YA_len', 'sampled_negs_NF-YA_pos', 'sampled_negs_NF-YB_chr', 'sampled_negs_NF-YB_len', 'sampled_negs_NF-YB_pos', 'sampled_negs_NFIC_(SC-81335)_chr', 'sampled_negs_NFIC_(SC-81335)_len', 'sampled_negs_NFIC_(SC-81335)_pos', 'sampled_negs_Nrf1_chr', 'sampled_negs_Nrf1_len', 'sampled_negs_Nrf1_pos', 'sampled_negs_Pbx3_chr', 'sampled_negs_Pbx3_len', 'sampled_negs_Pbx3_pos', 'sampled_negs_RFX5_(200-401-194)_chr', 'sampled_negs_RFX5_(200-401-194)_len', 'sampled_negs_RFX5_(200-401-194)_pos', 'sampled_negs_RXRA_chr', 'sampled_negs_RXRA_len', 'sampled_negs_RXRA_pos', 'sampled_negs_SIX5_chr', 'sampled_negs_SIX5_len', 'sampled_negs_SIX5_pos', 'sampled_negs_SP1_chr', 'sampled_negs_SP1_len', 'sampled_negs_SP1_pos', 'sampled_negs_SRF_chr', 'sampled_negs_SRF_len', 'sampled_negs_SRF_pos', 'sampled_negs_STAT5A_(SC-74442)_chr', 'sampled_negs_STAT5A_(SC-74442)_len', 'sampled_negs_STAT5A_(SC-74442)_pos', 'sampled_negs_TBP_chr', 'sampled_negs_TBP_len', 'sampled_negs_TBP_pos', 'sampled_negs_TCF12_chr', 'sampled_negs_TCF12_len', 'sampled_negs_TCF12_pos', 'sampled_negs_USF-1_chr', 'sampled_negs_USF-1_len', 'sampled_negs_USF-1_pos', 'sampled_negs_USF2_chr', 'sampled_negs_USF2_len', 'sampled_negs_USF2_pos', 'sampled_negs_YY1_(SC-281)_chr', 'sampled_negs_YY1_(SC-281)_len', 'sampled_negs_YY1_(SC-281)_pos', 'sampled_negs_ZBTB33_chr', 'sampled_negs_ZBTB33_len', 'sampled_negs_ZBTB33_pos', 'sampled_negs_ZEB1_(SC-25388)_chr', 'sampled_negs_ZEB1_(SC-25388)_len', 'sampled_negs_ZEB1_(SC-25388)_pos', 'sampled_negs_ZNF274_chr', 'sampled_negs_ZNF274_len', 'sampled_negs_ZNF274_pos', 'sampled_negs_ZZZ3_chr', 'sampled_negs_ZZZ3_len', 'sampled_negs_ZZZ3_pos', 'sampled_negs_Znf143_(16618-1-AP)_chr', 'sampled_negs_Znf143_(16618-1-AP)_len', 'sampled_negs_Znf143_(16618-1-AP)_pos']>"
      ]
     },
     "execution_count": 25,
     "metadata": {},
     "output_type": "execute_result"
    }
   ],
   "source": [
    "file[\"unstructured\"].keys()"
   ]
  }
 ],
 "metadata": {
  "kernelspec": {
   "display_name": "Negs",
   "language": "python",
   "name": "python3"
  },
  "language_info": {
   "codemirror_mode": {
    "name": "ipython",
    "version": 3
   },
   "file_extension": ".py",
   "mimetype": "text/x-python",
   "name": "python",
   "nbconvert_exporter": "python",
   "pygments_lexer": "ipython3",
   "version": "3.11.12"
  }
 },
 "nbformat": 4,
 "nbformat_minor": 5
}
