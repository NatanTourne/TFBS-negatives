{
 "cells": [
  {
   "cell_type": "code",
   "execution_count": null,
   "metadata": {},
   "outputs": [],
   "source": []
  },
  {
   "cell_type": "code",
   "execution_count": 1,
   "metadata": {},
   "outputs": [],
   "source": [
    "input_folder = \"/data/home/natant/Negatives/Data/Encode690/filtered_hg38\"\n",
    "output_folder = \"/data/home/natant/Negatives/Data/Encode690/filtered_hg38_101bp\""
   ]
  },
  {
   "cell_type": "code",
   "execution_count": 3,
   "metadata": {},
   "outputs": [],
   "source": [
    "import os\n",
    "import pandas as pd\n",
    "\n",
    "# Function to adjust the peak length to 101bp centered around the highest signal\n",
    "def adjust_peak_length(df):\n",
    "    df['peak_center'] = df['start'] + df['peak']\n",
    "    df['start'] = df['peak_center'] - 50\n",
    "    df['end'] = df['peak_center'] + 51\n",
    "    return df.drop(columns=['peak_center'])\n",
    "\n",
    "# Process each .narrowPeak file in the input folder\n",
    "for filename in os.listdir(input_folder):\n",
    "    if filename.endswith(\".narrowPeak\"):\n",
    "        file_path = os.path.join(input_folder, filename)\n",
    "        df = pd.read_csv(file_path, sep='\\t', header=None)\n",
    "        df.columns = ['chrom', 'start', 'end', 'name', 'score', 'strand', 'signalValue', 'pValue', 'qValue', 'peak']\n",
    "        \n",
    "        # Adjust the peak length\n",
    "        df = adjust_peak_length(df)\n",
    "        \n",
    "        # Save the modified file to the output folder\n",
    "        output_path = os.path.join(output_folder, filename)\n",
    "        df.to_csv(output_path, sep='\\t', header=False, index=False)"
   ]
  },
  {
   "cell_type": "code",
   "execution_count": 5,
   "metadata": {},
   "outputs": [
    {
     "data": {
      "text/plain": [
       "0       101\n",
       "1       101\n",
       "2       101\n",
       "3       101\n",
       "4       101\n",
       "       ... \n",
       "4219    101\n",
       "4220    101\n",
       "4221    101\n",
       "4222    101\n",
       "4223    101\n",
       "Length: 4224, dtype: int64"
      ]
     },
     "execution_count": 5,
     "metadata": {},
     "output_type": "execute_result"
    }
   ],
   "source": [
    "df[\"end\"]-df[\"start\"]"
   ]
  }
 ],
 "metadata": {
  "kernelspec": {
   "display_name": "plmbind4",
   "language": "python",
   "name": "python3"
  },
  "language_info": {
   "codemirror_mode": {
    "name": "ipython",
    "version": 3
   },
   "file_extension": ".py",
   "mimetype": "text/x-python",
   "name": "python",
   "nbconvert_exporter": "python",
   "pygments_lexer": "ipython3",
   "version": "3.11.9"
  }
 },
 "nbformat": 4,
 "nbformat_minor": 2
}
