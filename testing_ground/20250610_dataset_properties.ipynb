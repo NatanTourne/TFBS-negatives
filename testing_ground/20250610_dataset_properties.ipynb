{
 "cells": [
  {
   "cell_type": "code",
   "execution_count": 1,
   "id": "71b8c75b",
   "metadata": {},
   "outputs": [],
   "source": [
    "import os\n",
    "import h5torch\n",
    "import numpy as np\n",
    "import requests"
   ]
  },
  {
   "cell_type": "code",
   "execution_count": 3,
   "id": "bce382d7",
   "metadata": {},
   "outputs": [],
   "source": [
    "data_folder = \"/data/home/natant/Negatives/Data/Encode690/ENCODE_hg38_subset_101bp_celltypes_ATAC_H5_all_chr\"\n",
    "h5t_files = [f for f in os.listdir(data_folder) if f.endswith('.h5t')]\n"
   ]
  },
  {
   "cell_type": "code",
   "execution_count": 4,
   "id": "14c735d5",
   "metadata": {},
   "outputs": [
    {
     "data": {
      "text/html": [
       "<div>\n",
       "<style scoped>\n",
       "    .dataframe tbody tr th:only-of-type {\n",
       "        vertical-align: middle;\n",
       "    }\n",
       "\n",
       "    .dataframe tbody tr th {\n",
       "        vertical-align: top;\n",
       "    }\n",
       "\n",
       "    .dataframe thead th {\n",
       "        text-align: right;\n",
       "    }\n",
       "</style>\n",
       "<table border=\"1\" class=\"dataframe\">\n",
       "  <thead>\n",
       "    <tr style=\"text-align: right;\">\n",
       "      <th></th>\n",
       "      <th>Celltype</th>\n",
       "      <th>TF_count</th>\n",
       "    </tr>\n",
       "  </thead>\n",
       "  <tbody>\n",
       "    <tr>\n",
       "      <th>0</th>\n",
       "      <td>MCF-7</td>\n",
       "      <td>4</td>\n",
       "    </tr>\n",
       "    <tr>\n",
       "      <th>1</th>\n",
       "      <td>GM12878</td>\n",
       "      <td>36</td>\n",
       "    </tr>\n",
       "    <tr>\n",
       "      <th>2</th>\n",
       "      <td>HepG2</td>\n",
       "      <td>34</td>\n",
       "    </tr>\n",
       "    <tr>\n",
       "      <th>3</th>\n",
       "      <td>IMR90</td>\n",
       "      <td>1</td>\n",
       "    </tr>\n",
       "    <tr>\n",
       "      <th>4</th>\n",
       "      <td>HCT-116</td>\n",
       "      <td>4</td>\n",
       "    </tr>\n",
       "    <tr>\n",
       "      <th>5</th>\n",
       "      <td>PANC-1</td>\n",
       "      <td>1</td>\n",
       "    </tr>\n",
       "    <tr>\n",
       "      <th>6</th>\n",
       "      <td>K562</td>\n",
       "      <td>36</td>\n",
       "    </tr>\n",
       "    <tr>\n",
       "      <th>7</th>\n",
       "      <td>HEK293</td>\n",
       "      <td>2</td>\n",
       "    </tr>\n",
       "    <tr>\n",
       "      <th>8</th>\n",
       "      <td>A549</td>\n",
       "      <td>14</td>\n",
       "    </tr>\n",
       "  </tbody>\n",
       "</table>\n",
       "</div>"
      ],
      "text/plain": [
       "  Celltype  TF_count\n",
       "0    MCF-7         4\n",
       "1  GM12878        36\n",
       "2    HepG2        34\n",
       "3    IMR90         1\n",
       "4  HCT-116         4\n",
       "5   PANC-1         1\n",
       "6     K562        36\n",
       "7   HEK293         2\n",
       "8     A549        14"
      ]
     },
     "execution_count": 4,
     "metadata": {},
     "output_type": "execute_result"
    }
   ],
   "source": [
    "import pandas as pd\n",
    "\n",
    "celltype_tf_counts = []\n",
    "for h5t_file in h5t_files:\n",
    "    file_path = os.path.join(data_folder, h5t_file)\n",
    "    file = h5torch.File(file_path, 'r')\n",
    "    celltype = h5t_file.replace('.h5t', '')\n",
    "    tf_count = len(file[\"0/prot_names\"][:])-1\n",
    "    celltype_tf_counts.append({'Celltype': celltype, 'TF_count': tf_count})\n",
    "\n",
    "celltype_tf_df = pd.DataFrame(celltype_tf_counts)\n",
    "celltype_tf_df"
   ]
  }
 ],
 "metadata": {
  "kernelspec": {
   "display_name": "Negs",
   "language": "python",
   "name": "python3"
  },
  "language_info": {
   "codemirror_mode": {
    "name": "ipython",
    "version": 3
   },
   "file_extension": ".py",
   "mimetype": "text/x-python",
   "name": "python",
   "nbconvert_exporter": "python",
   "pygments_lexer": "ipython3",
   "version": "3.11.12"
  }
 },
 "nbformat": 4,
 "nbformat_minor": 5
}
