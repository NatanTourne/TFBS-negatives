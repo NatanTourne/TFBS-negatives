{
 "cells": [
  {
   "cell_type": "code",
   "execution_count": 1,
   "metadata": {},
   "outputs": [],
   "source": [
    "import h5torch\n",
    "import numpy as np\n",
    "import torch\n",
    "import pytorch_lightning as pl\n",
    "import warnings\n",
    "from pytorch_lightning.callbacks import Callback"
   ]
  },
  {
   "cell_type": "code",
   "execution_count": 17,
   "metadata": {},
   "outputs": [],
   "source": [
    "celltype_file = \"/data/home/natant/Negatives/Data/Encode690/ENCODE_hg38_subset_101bp_celltypes_ATAC_H5/GM12878.h5t\"\n",
    "file = h5torch.File(celltype_file, 'r')\n",
    "central = file[\"central\"][:]\n",
    "peak_ix_to_pos = file[\"1/peak_ix_to_pos\"][:]\n",
    "peak_ix_to_len = file[\"1/peak_ix_to_len\"][:]\n",
    "peak_ix_to_chr = file[\"1/peak_ix_to_chr\"][:]\n",
    "prot_names = file[\"0/prot_names\"][:]\n",
    "prot_mask = prot_names!= b\"ATAC_peak\" # filter out the ATAC peaks entry\n",
    "\n",
    "subset = [\"chr1\", \"chr2\", \"chr3\"] # STILL FILTER OUT THE ATAC PEAKS ENTRY\n",
    "peak_mask = np.isin(peak_ix_to_chr.astype(str), subset)"
   ]
  },
  {
   "cell_type": "code",
   "execution_count": 19,
   "metadata": {},
   "outputs": [
    {
     "data": {
      "text/plain": [
       "<KeysViewHDF5 ['chr1', 'chr10', 'chr11', 'chr12', 'chr13', 'chr14', 'chr15', 'chr16', 'chr17', 'chr18', 'chr19', 'chr2', 'chr20', 'chr21', 'chr22', 'chr3', 'chr4', 'chr5', 'chr6', 'chr7', 'chr8', 'chr9', 'chrX', 'chrY', 'dinucl_ATF2_(SC-81188)_chrs', 'dinucl_ATF2_(SC-81188)_seqs', 'dinucl_ATF3_chrs', 'dinucl_ATF3_seqs', 'dinucl_CEBPB_(SC-150)_chrs', 'dinucl_CEBPB_(SC-150)_seqs', 'dinucl_CTCF_chrs', 'dinucl_CTCF_seqs', 'dinucl_ELF1_(SC-631)_chrs', 'dinucl_ELF1_(SC-631)_seqs', 'dinucl_ELK1_(1277-1)_chrs', 'dinucl_ELK1_(1277-1)_seqs', 'dinucl_ETS1_chrs', 'dinucl_ETS1_seqs', 'dinucl_Egr-1_chrs', 'dinucl_Egr-1_seqs', 'dinucl_FOXM1_(SC-502)_chrs', 'dinucl_FOXM1_(SC-502)_seqs', 'dinucl_IKZF1_(IkN)_(UCLA)_chrs', 'dinucl_IKZF1_(IkN)_(UCLA)_seqs', 'dinucl_JunD_chrs', 'dinucl_JunD_seqs', 'dinucl_MAZ_(ab85725)_chrs', 'dinucl_MAZ_(ab85725)_seqs', 'dinucl_MEF2A_chrs', 'dinucl_MEF2A_seqs', 'dinucl_Max_chrs', 'dinucl_Max_seqs', 'dinucl_Mxi1_(AF4185)_chrs', 'dinucl_Mxi1_(AF4185)_seqs', 'dinucl_NF-YA_chrs', 'dinucl_NF-YA_seqs', 'dinucl_NF-YB_chrs', 'dinucl_NF-YB_seqs', 'dinucl_NFIC_(SC-81335)_chrs', 'dinucl_NFIC_(SC-81335)_seqs', 'dinucl_Nrf1_chrs', 'dinucl_Nrf1_seqs', 'dinucl_Pbx3_chrs', 'dinucl_Pbx3_seqs', 'dinucl_RFX5_(200-401-194)_chrs', 'dinucl_RFX5_(200-401-194)_seqs', 'dinucl_RXRA_chrs', 'dinucl_RXRA_seqs', 'dinucl_SIX5_chrs', 'dinucl_SIX5_seqs', 'dinucl_SP1_chrs', 'dinucl_SP1_seqs', 'dinucl_SRF_chrs', 'dinucl_SRF_seqs', 'dinucl_STAT5A_(SC-74442)_chrs', 'dinucl_STAT5A_(SC-74442)_seqs', 'dinucl_TBP_chrs', 'dinucl_TBP_seqs', 'dinucl_TCF12_chrs', 'dinucl_TCF12_seqs', 'dinucl_USF-1_chrs', 'dinucl_USF-1_seqs', 'dinucl_USF2_chrs', 'dinucl_USF2_seqs', 'dinucl_YY1_(SC-281)_chrs', 'dinucl_YY1_(SC-281)_seqs', 'dinucl_ZBTB33_chrs', 'dinucl_ZBTB33_seqs', 'dinucl_ZEB1_(SC-25388)_chrs', 'dinucl_ZEB1_(SC-25388)_seqs', 'dinucl_ZNF274_chrs', 'dinucl_ZNF274_seqs', 'dinucl_ZZZ3_chrs', 'dinucl_ZZZ3_seqs', 'dinucl_Znf143_(16618-1-AP)_chrs', 'dinucl_Znf143_(16618-1-AP)_seqs']>"
      ]
     },
     "execution_count": 19,
     "metadata": {},
     "output_type": "execute_result"
    }
   ],
   "source": [
    "file[\"unstructured\"].keys()"
   ]
  },
  {
   "cell_type": "code",
   "execution_count": 28,
   "metadata": {},
   "outputs": [],
   "source": [
    "celltype_file = \"/data/home/natant/Negatives/Data/Encode690/ENCODE_hg38_subset_101bp_celltypes_ATAC_H5_2/MCF-7.h5t\"\n",
    "file = h5torch.File(celltype_file, 'r')\n",
    "central = file[\"central\"][:]\n",
    "peak_ix_to_pos = file[\"1/peak_ix_to_pos\"][:]\n",
    "peak_ix_to_len = file[\"1/peak_ix_to_len\"][:]\n",
    "peak_ix_to_chr = file[\"1/peak_ix_to_chr\"][:]\n",
    "prot_names = file[\"0/prot_names\"][:]\n",
    "prot_mask = prot_names!= b\"ATAC_peak\" # filter out the ATAC peaks entry\n",
    "\n",
    "subset = [\"chr1\", \"chr2\", \"chr3\"] # STILL FILTER OUT THE ATAC PEAKS ENTRY\n",
    "peak_mask = np.isin(peak_ix_to_chr.astype(str), subset)"
   ]
  },
  {
   "cell_type": "code",
   "execution_count": 29,
   "metadata": {},
   "outputs": [
    {
     "data": {
      "text/plain": [
       "<KeysViewHDF5 ['chr1', 'chr10', 'chr11', 'chr12', 'chr13', 'chr14', 'chr15', 'chr16', 'chr17', 'chr18', 'chr19', 'chr2', 'chr20', 'chr21', 'chr22', 'chr3', 'chr4', 'chr5', 'chr6', 'chr7', 'chr8', 'chr9', 'chrX', 'chrY']>"
      ]
     },
     "execution_count": 29,
     "metadata": {},
     "output_type": "execute_result"
    }
   ],
   "source": [
    "file[\"unstructured\"].keys()"
   ]
  },
  {
   "cell_type": "code",
   "execution_count": 30,
   "metadata": {},
   "outputs": [],
   "source": [
    "file.close()"
   ]
  },
  {
   "cell_type": "code",
   "execution_count": 2,
   "metadata": {},
   "outputs": [
    {
     "data": {
      "text/plain": [
       "<KeysViewHDF5 ['chr1', 'chr10', 'chr11', 'chr12', 'chr13', 'chr14', 'chr15', 'chr16', 'chr17', 'chr18', 'chr19', 'chr2', 'chr20', 'chr21', 'chr22', 'chr3', 'chr4', 'chr5', 'chr6', 'chr7', 'chr8', 'chr9', 'chrX', 'chrY', 'dinucl_ATF3_chrs', 'dinucl_ATF3_seqs', 'dinucl_BHLHE40_chrs', 'dinucl_BHLHE40_seqs', 'dinucl_CREB1_(SC-240)_chrs', 'dinucl_CREB1_(SC-240)_seqs', 'dinucl_CTCF_chrs', 'dinucl_CTCF_seqs', 'dinucl_ELF1_(SC-631)_chrs', 'dinucl_ELF1_(SC-631)_seqs', 'dinucl_ETS1_chrs', 'dinucl_ETS1_seqs', 'dinucl_FOSL2_chrs', 'dinucl_FOSL2_seqs', 'dinucl_FOXA1_(SC-101058)_chrs', 'dinucl_FOXA1_(SC-101058)_seqs', 'dinucl_Max_chrs', 'dinucl_Max_seqs', 'dinucl_SIX5_chrs', 'dinucl_SIX5_seqs', 'dinucl_TCF12_chrs', 'dinucl_TCF12_seqs', 'dinucl_USF-1_chrs', 'dinucl_USF-1_seqs', 'dinucl_YY1_(SC-281)_chrs', 'dinucl_YY1_(SC-281)_seqs', 'dinucl_ZBTB33_chrs', 'dinucl_ZBTB33_seqs', 'sampled_negs_ATF3_chr', 'sampled_negs_ATF3_len', 'sampled_negs_ATF3_pos', 'sampled_negs_BHLHE40_chr', 'sampled_negs_BHLHE40_len', 'sampled_negs_BHLHE40_pos', 'sampled_negs_CREB1_chr', 'sampled_negs_CREB1_len', 'sampled_negs_CREB1_pos', 'sampled_negs_CTCF_chr', 'sampled_negs_CTCF_len', 'sampled_negs_CTCF_pos', 'sampled_negs_ELF1_chr', 'sampled_negs_ELF1_len', 'sampled_negs_ELF1_pos', 'sampled_negs_ETS1_chr', 'sampled_negs_ETS1_len', 'sampled_negs_ETS1_pos', 'sampled_negs_FOSL2_chr', 'sampled_negs_FOSL2_len', 'sampled_negs_FOSL2_pos', 'sampled_negs_FOXA1_chr', 'sampled_negs_FOXA1_len', 'sampled_negs_FOXA1_pos', 'sampled_negs_Max_chr', 'sampled_negs_Max_len', 'sampled_negs_Max_pos', 'sampled_negs_SIX5_chr', 'sampled_negs_SIX5_len', 'sampled_negs_SIX5_pos', 'sampled_negs_TCF12_chr', 'sampled_negs_TCF12_len', 'sampled_negs_TCF12_pos', 'sampled_negs_USF-1_chr', 'sampled_negs_USF-1_len', 'sampled_negs_USF-1_pos', 'sampled_negs_YY1_chr', 'sampled_negs_YY1_len', 'sampled_negs_YY1_pos', 'sampled_negs_ZBTB33_chr', 'sampled_negs_ZBTB33_len', 'sampled_negs_ZBTB33_pos']>"
      ]
     },
     "execution_count": 2,
     "metadata": {},
     "output_type": "execute_result"
    }
   ],
   "source": [
    "celltype_file = \"/data/home/natant/Negatives/Data/Encode690/ENCODE_hg38_subset_101bp_celltypes_ATAC_H5/A549.h5t\"\n",
    "file = h5torch.File(celltype_file, 'r')\n",
    "subset = [\"chr1\", \"chr2\", \"chr3\"]\n",
    "file[\"unstructured\"].keys()"
   ]
  },
  {
   "cell_type": "code",
   "execution_count": 3,
   "metadata": {},
   "outputs": [
    {
     "name": "stdout",
     "output_type": "stream",
     "text": [
      "20798\n",
      "{'0/prot_names': 'CTCF', '1/DNA_regions': [array([3, 2, 1, 3, 0, 3, 3, 2, 1, 3, 0, 0, 3, 3, 0, 3, 0, 2, 1, 3, 0, 1,\n",
      "       3, 1, 3, 3, 1, 1, 1, 2, 1, 2, 2, 1, 2, 0, 3, 1, 1, 1, 2, 1, 2, 1,\n",
      "       3, 1, 3, 2, 0, 3, 2, 0, 2, 2, 0, 3, 3, 1, 3, 3, 2, 0, 3, 2, 0, 3,\n",
      "       0, 3, 3, 1, 2, 0, 3, 2, 0, 0, 3, 3, 2, 0, 0, 0, 2, 2, 2, 3, 0, 3,\n",
      "       2, 2, 2, 3, 3, 3, 3, 0, 1, 3, 2, 3, 3], dtype=int8)], 'central': [1]}\n",
      "{'0/prot_names': 'CTCF', '1/DNA_regions': [array([1, 1, 1, 2, 3, 3, 0, 0, 1, 0, 1, 0, 0, 1, 2, 2, 2, 0, 0, 2, 3, 3,\n",
      "       3, 0, 3, 0, 0, 1, 3, 1, 2, 3, 3, 0, 2, 1, 3, 1, 3, 0, 0, 3, 3, 2,\n",
      "       0, 0, 3, 0, 3, 3, 2, 0, 0, 1, 0, 2, 0, 2, 0, 0, 0, 2, 1, 3, 3, 2,\n",
      "       2, 0, 1, 3, 0, 2, 0, 3, 0, 1, 0, 1, 1, 1, 0, 3, 0, 1, 1, 1, 3, 2,\n",
      "       2, 1, 1, 1, 1, 0, 0, 1, 1, 3, 0, 0, 3], dtype=int8)], 'central': [0]}\n"
     ]
    }
   ],
   "source": [
    "from TFBS_negatives.data import dinucl_shuffled_negs\n",
    "dinucl_shuffled_negs = dinucl_shuffled_negs(file,'CTCF', subset=subset)\n",
    "print(dinucl_shuffled_negs.__len__())\n",
    "print(dinucl_shuffled_negs.__getitem__(0))\n",
    "temp_len = dinucl_shuffled_negs.__len__()\n",
    "print(dinucl_shuffled_negs.__getitem__(temp_len-1))"
   ]
  },
  {
   "cell_type": "code",
   "execution_count": 7,
   "metadata": {},
   "outputs": [
    {
     "name": "stdout",
     "output_type": "stream",
     "text": [
      "15269\n",
      "{'0/prot_names': 'CTCF', '1/DNA_regions': [array([3, 2, 1, 3, 0, 3, 3, 2, 1, 3, 0, 0, 3, 3, 0, 3, 0, 2, 1, 3, 0, 1,\n",
      "       3, 1, 3, 3, 1, 1, 1, 2, 1, 2, 2, 1, 2, 0, 3, 1, 1, 1, 2, 1, 2, 1,\n",
      "       3, 1, 3, 2, 0, 3, 2, 0, 2, 2, 0, 3, 3, 1, 3, 3, 2, 0, 3, 2, 0, 3,\n",
      "       0, 3, 3, 1, 2, 0, 3, 2, 0, 0, 3, 3, 2, 0, 0, 0, 2, 2, 2, 3, 0, 3,\n",
      "       2, 2, 2, 3, 3, 3, 3, 0, 1, 3, 2, 3, 3], dtype=int8)], 'central': [1]}\n",
      "{'0/prot_names': 'CTCF', '1/DNA_regions': [array([0, 0, 0, 0, 1, 0, 0, 0, 1, 2, 2, 1, 2, 1, 3, 0, 2, 1, 0, 3, 1, 1,\n",
      "       3, 3, 2, 1, 3, 1, 0, 3, 1, 0, 0, 2, 0, 2, 1, 3, 3, 3, 2, 1, 1, 3,\n",
      "       2, 0, 3, 3, 0, 0, 0, 1, 0, 0, 3, 2, 2, 0, 0, 3, 0, 2, 1, 2, 0, 1,\n",
      "       1, 3, 1, 0, 0, 3, 2, 2, 1, 2, 1, 2, 0, 3, 0, 3, 3, 1, 3, 3, 3, 0,\n",
      "       1, 3, 3, 3, 0, 3, 3, 3, 0, 0, 2, 0, 0], dtype=int8)], 'central': [0]}\n"
     ]
    }
   ],
   "source": [
    "from TFBS_negatives.data import dinucl_sampled_negs\n",
    "dinucl_sampled_negs = dinucl_sampled_negs(file,'CTCF', subset=subset)\n",
    "print(dinucl_sampled_negs.__len__())\n",
    "print(dinucl_sampled_negs.__getitem__(0))\n",
    "temp_len = dinucl_sampled_negs.__len__()\n",
    "print(dinucl_sampled_negs.__getitem__(temp_len-1000))"
   ]
  },
  {
   "cell_type": "code",
   "execution_count": 5,
   "metadata": {},
   "outputs": [
    {
     "data": {
      "text/plain": [
       "4822"
      ]
     },
     "execution_count": 5,
     "metadata": {},
     "output_type": "execute_result"
    }
   ],
   "source": [
    "temp_len - dinucl_sampled_negs.peak_ix_to_pos.shape[0]"
   ]
  },
  {
   "cell_type": "code",
   "execution_count": 8,
   "metadata": {},
   "outputs": [],
   "source": [
    "test = dinucl_sampled_negs.__getitem__(temp_len-4800)\n",
    "test2 = dinucl_sampled_negs.__getitem__(1000)"
   ]
  },
  {
   "cell_type": "code",
   "execution_count": 7,
   "metadata": {},
   "outputs": [
    {
     "data": {
      "text/plain": [
       "{'0/prot_names': 'CTCF',\n",
       " '1/DNA_regions': [array([4, 4, 4, ..., 4, 4, 4], shape=(242193374,), dtype=int8)],\n",
       " 'central': [0]}"
      ]
     },
     "execution_count": 7,
     "metadata": {},
     "output_type": "execute_result"
    }
   ],
   "source": [
    "test"
   ]
  },
  {
   "cell_type": "code",
   "execution_count": 48,
   "metadata": {},
   "outputs": [
    {
     "data": {
      "text/plain": [
       "{'0/prot_names': 'CTCF',\n",
       " '1/DNA_regions': [array([3, 0, 3, 2, 0, 3, 0, 0, 3, 3, 3, 0, 3, 0, 2, 1, 2, 3, 3, 1, 3, 3,\n",
       "         2, 2, 1, 3, 2, 0, 3, 1, 3, 1, 1, 2, 0, 0, 0, 3, 2, 3, 2, 2, 2, 1,\n",
       "         2, 1, 3, 3, 2, 3, 3, 2, 2, 3, 3, 3, 0, 3, 3, 0, 3, 2, 3, 3, 3, 3,\n",
       "         3, 2, 1, 3, 2, 0, 3, 3, 3, 0, 2, 2, 2, 3, 3, 3, 1, 3, 0, 1, 3, 3,\n",
       "         3, 0, 3, 3, 3, 0, 3, 2, 2, 1, 2, 2, 3], dtype=int8)],\n",
       " 'central': [1]}"
      ]
     },
     "execution_count": 48,
     "metadata": {},
     "output_type": "execute_result"
    }
   ],
   "source": [
    "test2"
   ]
  },
  {
   "cell_type": "code",
   "execution_count": 16,
   "metadata": {},
   "outputs": [
    {
     "name": "stdout",
     "output_type": "stream",
     "text": [
      "20798\n",
      "{'0/prot_names': 'CTCF', '1/DNA_regions': [array([3, 2, 1, 3, 0, 3, 3, 2, 1, 3, 0, 0, 3, 3, 0, 3, 0, 2, 1, 3, 0, 1,\n",
      "       3, 1, 3, 3, 1, 1, 1, 2, 1, 2, 2, 1, 2, 0, 3, 1, 1, 1, 2, 1, 2, 1,\n",
      "       3, 1, 3, 2, 0, 3, 2, 0, 2, 2, 0, 3, 3, 1, 3, 3, 2, 0, 3, 2, 0, 3,\n",
      "       0, 3, 3, 1, 2, 0, 3, 2, 0, 0, 3, 3, 2, 0, 0, 0, 2, 2, 2, 3, 0, 3,\n",
      "       2, 2, 2, 3, 3, 3, 3, 0, 1, 3, 2, 3, 3], dtype=int8)], 'central': [1]}\n",
      "{'0/prot_names': 'CTCF', '1/DNA_regions': [array([1, 2, 2, 2, 0, 2, 2, 2, 3, 3, 1, 1, 0, 2, 3, 0, 0, 1, 1, 0, 3, 0,\n",
      "       1, 1, 0, 1, 1, 2, 2, 1, 3, 0, 3, 1, 1, 0, 0, 0, 1, 2, 3, 1, 0, 2,\n",
      "       1, 0, 0, 1, 2, 3, 0, 0, 0, 3, 1, 3, 3, 0, 0, 3, 3, 1, 1, 3, 3, 3,\n",
      "       0, 3, 3, 1, 1, 2, 0, 1, 0, 1, 2, 0, 0, 1, 3, 0, 1, 0, 0, 2, 3, 2,\n",
      "       0, 0, 0, 3, 3, 3, 1, 0, 3, 0, 2, 0, 0], dtype=int8)], 'central': [0]}\n"
     ]
    }
   ],
   "source": [
    "from TFBS_negatives.data import shuffled_negs\n",
    "shuffled_negs = shuffled_negs(file,'CTCF', subset=subset)\n",
    "print(shuffled_negs.__len__())\n",
    "print(shuffled_negs.__getitem__(0))\n",
    "temp_len = shuffled_negs.__len__()\n",
    "print(shuffled_negs.__getitem__(temp_len-1))"
   ]
  },
  {
   "cell_type": "code",
   "execution_count": 12,
   "metadata": {},
   "outputs": [
    {
     "name": "stdout",
     "output_type": "stream",
     "text": [
      "20798\n",
      "{'0/prot_names': 'CTCF', '1/DNA_regions': [array([3, 2, 1, 3, 0, 3, 3, 2, 1, 3, 0, 0, 3, 3, 0, 3, 0, 2, 1, 3, 0, 1,\n",
      "       3, 1, 3, 3, 1, 1, 1, 2, 1, 2, 2, 1, 2, 0, 3, 1, 1, 1, 2, 1, 2, 1,\n",
      "       3, 1, 3, 2, 0, 3, 2, 0, 2, 2, 0, 3, 3, 1, 3, 3, 2, 0, 3, 2, 0, 3,\n",
      "       0, 3, 3, 1, 2, 0, 3, 2, 0, 0, 3, 3, 2, 0, 0, 0, 2, 2, 2, 3, 0, 3,\n",
      "       2, 2, 2, 3, 3, 3, 3, 0, 1, 3, 2, 3, 3], dtype=int8)], 'central': [1]}\n",
      "{'0/prot_names': 'CTCF', '1/DNA_regions': [array([3, 0, 1, 2, 2, 2, 3, 2, 2, 2, 2, 0, 0, 2, 2, 0, 0, 2, 1, 1, 2, 2,\n",
      "       2, 3, 2, 1, 3, 0, 3, 3, 1, 3, 2, 2, 0, 3, 0, 0, 3, 2, 0, 3, 2, 3,\n",
      "       0, 3, 3, 0, 3, 2, 1, 1, 2, 0, 3, 2, 1, 1, 2, 2, 1, 2, 0, 3, 3, 3,\n",
      "       2, 0, 3, 2, 0, 2, 3, 0, 3, 3, 3, 1, 2, 3, 1, 3, 1, 1, 0, 0, 2, 1,\n",
      "       1, 3, 3, 1, 3, 1, 1, 2, 1, 1, 2, 0, 1], dtype=int8)], 'central': [0]}\n"
     ]
    }
   ],
   "source": [
    "from TFBS_negatives.data import neighbor_negs\n",
    "neighbor_negs = neighbor_negs(file,'CTCF', subset=subset)\n",
    "print(neighbor_negs.__len__())\n",
    "print(neighbor_negs.__getitem__(0))\n",
    "temp_len = neighbor_negs.__len__()\n",
    "print(neighbor_negs.__getitem__(temp_len-1))"
   ]
  },
  {
   "cell_type": "code",
   "execution_count": null,
   "metadata": {},
   "outputs": [],
   "source": []
  },
  {
   "cell_type": "code",
   "execution_count": null,
   "metadata": {},
   "outputs": [],
   "source": []
  },
  {
   "cell_type": "code",
   "execution_count": null,
   "metadata": {},
   "outputs": [],
   "source": []
  },
  {
   "cell_type": "code",
   "execution_count": 9,
   "metadata": {},
   "outputs": [],
   "source": [
    "from TFBS_negatives.data import shuffled_negs\n",
    "shuffled_negs = shuffled_negs(file, TF = \"USF2\",subset=subset)"
   ]
  },
  {
   "cell_type": "code",
   "execution_count": 18,
   "metadata": {},
   "outputs": [
    {
     "data": {
      "text/plain": [
       "4060"
      ]
     },
     "execution_count": 18,
     "metadata": {},
     "output_type": "execute_result"
    }
   ],
   "source": [
    "test = shuffled_negs.__getitem__(3)\n",
    "shuffled_negs.__len__()"
   ]
  },
  {
   "cell_type": "code",
   "execution_count": 20,
   "metadata": {},
   "outputs": [
    {
     "ename": "KeyError",
     "evalue": "np.bytes_(b'chr2')",
     "output_type": "error",
     "traceback": [
      "\u001b[31m---------------------------------------------------------------------------\u001b[39m",
      "\u001b[31mKeyError\u001b[39m                                  Traceback (most recent call last)",
      "\u001b[36mCell\u001b[39m\u001b[36m \u001b[39m\u001b[32mIn[20]\u001b[39m\u001b[32m, line 1\u001b[39m\n\u001b[32m----> \u001b[39m\u001b[32m1\u001b[39m \u001b[43mshuffled_negs\u001b[49m\u001b[43m.\u001b[49m\u001b[34;43m__getitem__\u001b[39;49m\u001b[43m(\u001b[49m\u001b[32;43m3000\u001b[39;49m\u001b[43m)\u001b[49m\n",
      "\u001b[36mFile \u001b[39m\u001b[32m~/Negatives/TFBS_negatives/TFBS_negatives/data.py:201\u001b[39m, in \u001b[36mshuffled_negs.__getitem__\u001b[39m\u001b[34m(self, index)\u001b[39m\n\u001b[32m    199\u001b[39m \u001b[38;5;28mchr\u001b[39m = \u001b[38;5;28mself\u001b[39m.peak_ix_to_chr[converted_index]\n\u001b[32m    200\u001b[39m pos = \u001b[38;5;28mself\u001b[39m.peak_ix_to_pos[converted_index]\n\u001b[32m--> \u001b[39m\u001b[32m201\u001b[39m DNA = \u001b[38;5;28;43mself\u001b[39;49m\u001b[43m.\u001b[49m\u001b[43mgenome\u001b[49m\u001b[43m[\u001b[49m\u001b[38;5;28;43mchr\u001b[39;49m\u001b[43m]\u001b[49m[pos-\u001b[32m50\u001b[39m:pos+\u001b[32m51\u001b[39m]\n\u001b[32m    202\u001b[39m shuffled_DNA =  np.random.permutation(DNA)\n\u001b[32m    203\u001b[39m sample[\u001b[33m\"\u001b[39m\u001b[33m1/DNA_regions\u001b[39m\u001b[33m\"\u001b[39m].append(shuffled_DNA)\n",
      "\u001b[31mKeyError\u001b[39m: np.bytes_(b'chr2')"
     ]
    }
   ],
   "source": [
    "shuffled_negs.__getitem__(3000)"
   ]
  },
  {
   "cell_type": "code",
   "execution_count": null,
   "metadata": {},
   "outputs": [],
   "source": []
  },
  {
   "cell_type": "code",
   "execution_count": null,
   "metadata": {},
   "outputs": [],
   "source": []
  },
  {
   "cell_type": "code",
   "execution_count": 2,
   "metadata": {},
   "outputs": [
    {
     "ename": "ImportError",
     "evalue": "cannot import name 'DataModule' from 'TFBS_negatives.data' (/data/home/natant/Negatives/TFBS_negatives/TFBS_negatives/data.py)",
     "output_type": "error",
     "traceback": [
      "\u001b[31m---------------------------------------------------------------------------\u001b[39m",
      "\u001b[31mImportError\u001b[39m                               Traceback (most recent call last)",
      "\u001b[36mCell\u001b[39m\u001b[36m \u001b[39m\u001b[32mIn[2]\u001b[39m\u001b[32m, line 1\u001b[39m\n\u001b[32m----> \u001b[39m\u001b[32m1\u001b[39m \u001b[38;5;28;01mfrom\u001b[39;00m\u001b[38;5;250m \u001b[39m\u001b[34;01mTFBS_negatives\u001b[39;00m\u001b[34;01m.\u001b[39;00m\u001b[34;01mdata\u001b[39;00m\u001b[38;5;250m \u001b[39m\u001b[38;5;28;01mimport\u001b[39;00m DataModule\n\u001b[32m      2\u001b[39m file = \u001b[33m\"\u001b[39m\u001b[33m/data/home/natant/Negatives/Data/Encode690/ENCODE_hg38_subset_101bp_celltypes_ATAC_H5/A549.h5t\u001b[39m\u001b[33m\"\u001b[39m\n\u001b[32m      3\u001b[39m Dmod = DataModule(file, batch_size=\u001b[32m32\u001b[39m, neg_mode=\u001b[33m\"\u001b[39m\u001b[33mshuffled\u001b[39m\u001b[33m\"\u001b[39m)\n",
      "\u001b[31mImportError\u001b[39m: cannot import name 'DataModule' from 'TFBS_negatives.data' (/data/home/natant/Negatives/TFBS_negatives/TFBS_negatives/data.py)"
     ]
    }
   ],
   "source": [
    "from TFBS_negatives.data import DataModule\n",
    "file = \"/data/home/natant/Negatives/Data/Encode690/ENCODE_hg38_subset_101bp_celltypes_ATAC_H5/A549.h5t\"\n",
    "Dmod = DataModule(file, batch_size=32, neg_mode=\"shuffled\")"
   ]
  },
  {
   "cell_type": "code",
   "execution_count": 3,
   "metadata": {},
   "outputs": [
    {
     "data": {
      "text/plain": [
       "(15,)"
      ]
     },
     "execution_count": 3,
     "metadata": {},
     "output_type": "execute_result"
    }
   ],
   "source": [
    "Dmod.train_data.file[\"0/prot_names\"][:].shape"
   ]
  },
  {
   "cell_type": "code",
   "execution_count": 3,
   "metadata": {},
   "outputs": [
    {
     "ename": "ModuleNotFoundError",
     "evalue": "No module named 'transformers'",
     "output_type": "error",
     "traceback": [
      "\u001b[31m---------------------------------------------------------------------------\u001b[39m",
      "\u001b[31mModuleNotFoundError\u001b[39m                       Traceback (most recent call last)",
      "\u001b[36mCell\u001b[39m\u001b[36m \u001b[39m\u001b[32mIn[3]\u001b[39m\u001b[32m, line 1\u001b[39m\n\u001b[32m----> \u001b[39m\u001b[32m1\u001b[39m \u001b[38;5;28;01mfrom\u001b[39;00m\u001b[38;5;250m \u001b[39m\u001b[34;01mTFBS_negatives\u001b[39;00m\u001b[34;01m.\u001b[39;00m\u001b[34;01mmodels\u001b[39;00m\u001b[38;5;250m \u001b[39m\u001b[38;5;28;01mimport\u001b[39;00m multilabel\n\u001b[32m      2\u001b[39m model = multilabel(latent_vector_size=\u001b[32m14\u001b[39m)\n",
      "\u001b[36mFile \u001b[39m\u001b[32m~/Negatives/TFBS_negatives/TFBS_negatives/models.py:6\u001b[39m\n\u001b[32m      4\u001b[39m \u001b[38;5;28;01mimport\u001b[39;00m\u001b[38;5;250m \u001b[39m\u001b[34;01mtorch\u001b[39;00m\u001b[34;01m.\u001b[39;00m\u001b[34;01mnn\u001b[39;00m\u001b[34;01m.\u001b[39;00m\u001b[34;01mfunctional\u001b[39;00m\u001b[38;5;250m \u001b[39m\u001b[38;5;28;01mas\u001b[39;00m\u001b[38;5;250m \u001b[39m\u001b[34;01mF\u001b[39;00m\n\u001b[32m      5\u001b[39m \u001b[38;5;28;01mfrom\u001b[39;00m\u001b[38;5;250m \u001b[39m\u001b[34;01meinops\u001b[39;00m\u001b[34;01m.\u001b[39;00m\u001b[34;01mlayers\u001b[39;00m\u001b[34;01m.\u001b[39;00m\u001b[34;01mtorch\u001b[39;00m\u001b[38;5;250m \u001b[39m\u001b[38;5;28;01mimport\u001b[39;00m Rearrange\n\u001b[32m----> \u001b[39m\u001b[32m6\u001b[39m \u001b[38;5;28;01mfrom\u001b[39;00m\u001b[38;5;250m \u001b[39m\u001b[34;01mtransformers\u001b[39;00m\u001b[38;5;250m \u001b[39m\u001b[38;5;28;01mimport\u001b[39;00m EsmModel, EsmTokenizer\n\u001b[32m      7\u001b[39m \u001b[38;5;28;01mimport\u001b[39;00m\u001b[38;5;250m \u001b[39m\u001b[34;01mwarnings\u001b[39;00m\n\u001b[32m      8\u001b[39m \u001b[38;5;28;01mfrom\u001b[39;00m\u001b[38;5;250m \u001b[39m\u001b[34;01mfunctools\u001b[39;00m\u001b[38;5;250m \u001b[39m\u001b[38;5;28;01mimport\u001b[39;00m partial\n",
      "\u001b[31mModuleNotFoundError\u001b[39m: No module named 'transformers'"
     ]
    }
   ],
   "source": [
    "from TFBS_negatives.models import multilabel\n",
    "model = multilabel(latent_vector_size=14)"
   ]
  },
  {
   "cell_type": "code",
   "execution_count": 5,
   "metadata": {},
   "outputs": [
    {
     "name": "stderr",
     "output_type": "stream",
     "text": [
      "GPU available: True (cuda), used: True\n",
      "TPU available: False, using: 0 TPU cores\n",
      "HPU available: False, using: 0 HPUs\n"
     ]
    }
   ],
   "source": [
    "import pytorch_lightning as pl\n",
    "trainer = pl.Trainer(\n",
    "    max_steps = 5_000_000,\n",
    "    val_check_interval = 10000,\n",
    "    limit_val_batches=200, \n",
    "    accelerator = \"gpu\", \n",
    "    devices = [6]\n",
    ")"
   ]
  },
  {
   "cell_type": "code",
   "execution_count": 6,
   "metadata": {},
   "outputs": [
    {
     "name": "stderr",
     "output_type": "stream",
     "text": [
      "LOCAL_RANK: 0 - CUDA_VISIBLE_DEVICES: [0,1,2,3,4,5,6,7]\n",
      "\n",
      "  | Name          | Type              | Params | Mode \n",
      "------------------------------------------------------------\n",
      "0 | loss_function | MultiLabelLoss    | 0      | train\n",
      "1 | embedding     | Embedding         | 20     | train\n",
      "2 | DNA_branch    | EnformerConvStack | 57.4 K | train\n",
      "------------------------------------------------------------\n",
      "57.4 K    Trainable params\n",
      "20        Non-trainable params\n",
      "57.4 K    Total params\n",
      "0.229     Total estimated model params size (MB)\n"
     ]
    },
    {
     "name": "stdout",
     "output_type": "stream",
     "text": [
      "Sanity Checking: |          | 0/? [00:00<?, ?it/s]"
     ]
    },
    {
     "name": "stderr",
     "output_type": "stream",
     "text": [
      "/opt/Anaconda3/envs/plmbind4/lib/python3.11/site-packages/pytorch_lightning/trainer/connectors/data_connector.py:475: Your `val_dataloader`'s sampler has shuffling enabled, it is strongly recommended that you turn shuffling off for val/test dataloaders.\n"
     ]
    },
    {
     "name": "stdout",
     "output_type": "stream",
     "text": [
      "Sanity Checking DataLoader 0:   0%|          | 0/1 [00:00<?, ?it/s]"
     ]
    },
    {
     "ename": "TypeError",
     "evalue": "only integer tensors of a single element can be converted to an index",
     "output_type": "error",
     "traceback": [
      "\u001b[0;31m---------------------------------------------------------------------------\u001b[0m",
      "\u001b[0;31mTypeError\u001b[0m                                 Traceback (most recent call last)",
      "Cell \u001b[0;32mIn[6], line 1\u001b[0m\n\u001b[0;32m----> 1\u001b[0m \u001b[43mtrainer\u001b[49m\u001b[38;5;241;43m.\u001b[39;49m\u001b[43mfit\u001b[49m\u001b[43m(\u001b[49m\u001b[43mmodel\u001b[49m\u001b[43m,\u001b[49m\u001b[43m \u001b[49m\u001b[43mDmod\u001b[49m\u001b[43m)\u001b[49m  \n",
      "File \u001b[0;32m/opt/Anaconda3/envs/plmbind4/lib/python3.11/site-packages/pytorch_lightning/trainer/trainer.py:543\u001b[0m, in \u001b[0;36mTrainer.fit\u001b[0;34m(self, model, train_dataloaders, val_dataloaders, datamodule, ckpt_path)\u001b[0m\n\u001b[1;32m    541\u001b[0m \u001b[38;5;28mself\u001b[39m\u001b[38;5;241m.\u001b[39mstate\u001b[38;5;241m.\u001b[39mstatus \u001b[38;5;241m=\u001b[39m TrainerStatus\u001b[38;5;241m.\u001b[39mRUNNING\n\u001b[1;32m    542\u001b[0m \u001b[38;5;28mself\u001b[39m\u001b[38;5;241m.\u001b[39mtraining \u001b[38;5;241m=\u001b[39m \u001b[38;5;28;01mTrue\u001b[39;00m\n\u001b[0;32m--> 543\u001b[0m \u001b[43mcall\u001b[49m\u001b[38;5;241;43m.\u001b[39;49m\u001b[43m_call_and_handle_interrupt\u001b[49m\u001b[43m(\u001b[49m\n\u001b[1;32m    544\u001b[0m \u001b[43m    \u001b[49m\u001b[38;5;28;43mself\u001b[39;49m\u001b[43m,\u001b[49m\u001b[43m \u001b[49m\u001b[38;5;28;43mself\u001b[39;49m\u001b[38;5;241;43m.\u001b[39;49m\u001b[43m_fit_impl\u001b[49m\u001b[43m,\u001b[49m\u001b[43m \u001b[49m\u001b[43mmodel\u001b[49m\u001b[43m,\u001b[49m\u001b[43m \u001b[49m\u001b[43mtrain_dataloaders\u001b[49m\u001b[43m,\u001b[49m\u001b[43m \u001b[49m\u001b[43mval_dataloaders\u001b[49m\u001b[43m,\u001b[49m\u001b[43m \u001b[49m\u001b[43mdatamodule\u001b[49m\u001b[43m,\u001b[49m\u001b[43m \u001b[49m\u001b[43mckpt_path\u001b[49m\n\u001b[1;32m    545\u001b[0m \u001b[43m\u001b[49m\u001b[43m)\u001b[49m\n",
      "File \u001b[0;32m/opt/Anaconda3/envs/plmbind4/lib/python3.11/site-packages/pytorch_lightning/trainer/call.py:44\u001b[0m, in \u001b[0;36m_call_and_handle_interrupt\u001b[0;34m(trainer, trainer_fn, *args, **kwargs)\u001b[0m\n\u001b[1;32m     42\u001b[0m     \u001b[38;5;28;01mif\u001b[39;00m trainer\u001b[38;5;241m.\u001b[39mstrategy\u001b[38;5;241m.\u001b[39mlauncher \u001b[38;5;129;01mis\u001b[39;00m \u001b[38;5;129;01mnot\u001b[39;00m \u001b[38;5;28;01mNone\u001b[39;00m:\n\u001b[1;32m     43\u001b[0m         \u001b[38;5;28;01mreturn\u001b[39;00m trainer\u001b[38;5;241m.\u001b[39mstrategy\u001b[38;5;241m.\u001b[39mlauncher\u001b[38;5;241m.\u001b[39mlaunch(trainer_fn, \u001b[38;5;241m*\u001b[39margs, trainer\u001b[38;5;241m=\u001b[39mtrainer, \u001b[38;5;241m*\u001b[39m\u001b[38;5;241m*\u001b[39mkwargs)\n\u001b[0;32m---> 44\u001b[0m     \u001b[38;5;28;01mreturn\u001b[39;00m \u001b[43mtrainer_fn\u001b[49m\u001b[43m(\u001b[49m\u001b[38;5;241;43m*\u001b[39;49m\u001b[43margs\u001b[49m\u001b[43m,\u001b[49m\u001b[43m \u001b[49m\u001b[38;5;241;43m*\u001b[39;49m\u001b[38;5;241;43m*\u001b[39;49m\u001b[43mkwargs\u001b[49m\u001b[43m)\u001b[49m\n\u001b[1;32m     46\u001b[0m \u001b[38;5;28;01mexcept\u001b[39;00m _TunerExitException:\n\u001b[1;32m     47\u001b[0m     _call_teardown_hook(trainer)\n",
      "File \u001b[0;32m/opt/Anaconda3/envs/plmbind4/lib/python3.11/site-packages/pytorch_lightning/trainer/trainer.py:579\u001b[0m, in \u001b[0;36mTrainer._fit_impl\u001b[0;34m(self, model, train_dataloaders, val_dataloaders, datamodule, ckpt_path)\u001b[0m\n\u001b[1;32m    572\u001b[0m \u001b[38;5;28;01massert\u001b[39;00m \u001b[38;5;28mself\u001b[39m\u001b[38;5;241m.\u001b[39mstate\u001b[38;5;241m.\u001b[39mfn \u001b[38;5;129;01mis\u001b[39;00m \u001b[38;5;129;01mnot\u001b[39;00m \u001b[38;5;28;01mNone\u001b[39;00m\n\u001b[1;32m    573\u001b[0m ckpt_path \u001b[38;5;241m=\u001b[39m \u001b[38;5;28mself\u001b[39m\u001b[38;5;241m.\u001b[39m_checkpoint_connector\u001b[38;5;241m.\u001b[39m_select_ckpt_path(\n\u001b[1;32m    574\u001b[0m     \u001b[38;5;28mself\u001b[39m\u001b[38;5;241m.\u001b[39mstate\u001b[38;5;241m.\u001b[39mfn,\n\u001b[1;32m    575\u001b[0m     ckpt_path,\n\u001b[1;32m    576\u001b[0m     model_provided\u001b[38;5;241m=\u001b[39m\u001b[38;5;28;01mTrue\u001b[39;00m,\n\u001b[1;32m    577\u001b[0m     model_connected\u001b[38;5;241m=\u001b[39m\u001b[38;5;28mself\u001b[39m\u001b[38;5;241m.\u001b[39mlightning_module \u001b[38;5;129;01mis\u001b[39;00m \u001b[38;5;129;01mnot\u001b[39;00m \u001b[38;5;28;01mNone\u001b[39;00m,\n\u001b[1;32m    578\u001b[0m )\n\u001b[0;32m--> 579\u001b[0m \u001b[38;5;28;43mself\u001b[39;49m\u001b[38;5;241;43m.\u001b[39;49m\u001b[43m_run\u001b[49m\u001b[43m(\u001b[49m\u001b[43mmodel\u001b[49m\u001b[43m,\u001b[49m\u001b[43m \u001b[49m\u001b[43mckpt_path\u001b[49m\u001b[38;5;241;43m=\u001b[39;49m\u001b[43mckpt_path\u001b[49m\u001b[43m)\u001b[49m\n\u001b[1;32m    581\u001b[0m \u001b[38;5;28;01massert\u001b[39;00m \u001b[38;5;28mself\u001b[39m\u001b[38;5;241m.\u001b[39mstate\u001b[38;5;241m.\u001b[39mstopped\n\u001b[1;32m    582\u001b[0m \u001b[38;5;28mself\u001b[39m\u001b[38;5;241m.\u001b[39mtraining \u001b[38;5;241m=\u001b[39m \u001b[38;5;28;01mFalse\u001b[39;00m\n",
      "File \u001b[0;32m/opt/Anaconda3/envs/plmbind4/lib/python3.11/site-packages/pytorch_lightning/trainer/trainer.py:986\u001b[0m, in \u001b[0;36mTrainer._run\u001b[0;34m(self, model, ckpt_path)\u001b[0m\n\u001b[1;32m    981\u001b[0m \u001b[38;5;28mself\u001b[39m\u001b[38;5;241m.\u001b[39m_signal_connector\u001b[38;5;241m.\u001b[39mregister_signal_handlers()\n\u001b[1;32m    983\u001b[0m \u001b[38;5;66;03m# ----------------------------\u001b[39;00m\n\u001b[1;32m    984\u001b[0m \u001b[38;5;66;03m# RUN THE TRAINER\u001b[39;00m\n\u001b[1;32m    985\u001b[0m \u001b[38;5;66;03m# ----------------------------\u001b[39;00m\n\u001b[0;32m--> 986\u001b[0m results \u001b[38;5;241m=\u001b[39m \u001b[38;5;28;43mself\u001b[39;49m\u001b[38;5;241;43m.\u001b[39;49m\u001b[43m_run_stage\u001b[49m\u001b[43m(\u001b[49m\u001b[43m)\u001b[49m\n\u001b[1;32m    988\u001b[0m \u001b[38;5;66;03m# ----------------------------\u001b[39;00m\n\u001b[1;32m    989\u001b[0m \u001b[38;5;66;03m# POST-Training CLEAN UP\u001b[39;00m\n\u001b[1;32m    990\u001b[0m \u001b[38;5;66;03m# ----------------------------\u001b[39;00m\n\u001b[1;32m    991\u001b[0m log\u001b[38;5;241m.\u001b[39mdebug(\u001b[38;5;124mf\u001b[39m\u001b[38;5;124m\"\u001b[39m\u001b[38;5;132;01m{\u001b[39;00m\u001b[38;5;28mself\u001b[39m\u001b[38;5;241m.\u001b[39m\u001b[38;5;18m__class__\u001b[39m\u001b[38;5;241m.\u001b[39m\u001b[38;5;18m__name__\u001b[39m\u001b[38;5;132;01m}\u001b[39;00m\u001b[38;5;124m: trainer tearing down\u001b[39m\u001b[38;5;124m\"\u001b[39m)\n",
      "File \u001b[0;32m/opt/Anaconda3/envs/plmbind4/lib/python3.11/site-packages/pytorch_lightning/trainer/trainer.py:1028\u001b[0m, in \u001b[0;36mTrainer._run_stage\u001b[0;34m(self)\u001b[0m\n\u001b[1;32m   1026\u001b[0m \u001b[38;5;28;01mif\u001b[39;00m \u001b[38;5;28mself\u001b[39m\u001b[38;5;241m.\u001b[39mtraining:\n\u001b[1;32m   1027\u001b[0m     \u001b[38;5;28;01mwith\u001b[39;00m isolate_rng():\n\u001b[0;32m-> 1028\u001b[0m         \u001b[38;5;28;43mself\u001b[39;49m\u001b[38;5;241;43m.\u001b[39;49m\u001b[43m_run_sanity_check\u001b[49m\u001b[43m(\u001b[49m\u001b[43m)\u001b[49m\n\u001b[1;32m   1029\u001b[0m     \u001b[38;5;28;01mwith\u001b[39;00m torch\u001b[38;5;241m.\u001b[39mautograd\u001b[38;5;241m.\u001b[39mset_detect_anomaly(\u001b[38;5;28mself\u001b[39m\u001b[38;5;241m.\u001b[39m_detect_anomaly):\n\u001b[1;32m   1030\u001b[0m         \u001b[38;5;28mself\u001b[39m\u001b[38;5;241m.\u001b[39mfit_loop\u001b[38;5;241m.\u001b[39mrun()\n",
      "File \u001b[0;32m/opt/Anaconda3/envs/plmbind4/lib/python3.11/site-packages/pytorch_lightning/trainer/trainer.py:1057\u001b[0m, in \u001b[0;36mTrainer._run_sanity_check\u001b[0;34m(self)\u001b[0m\n\u001b[1;32m   1054\u001b[0m call\u001b[38;5;241m.\u001b[39m_call_callback_hooks(\u001b[38;5;28mself\u001b[39m, \u001b[38;5;124m\"\u001b[39m\u001b[38;5;124mon_sanity_check_start\u001b[39m\u001b[38;5;124m\"\u001b[39m)\n\u001b[1;32m   1056\u001b[0m \u001b[38;5;66;03m# run eval step\u001b[39;00m\n\u001b[0;32m-> 1057\u001b[0m \u001b[43mval_loop\u001b[49m\u001b[38;5;241;43m.\u001b[39;49m\u001b[43mrun\u001b[49m\u001b[43m(\u001b[49m\u001b[43m)\u001b[49m\n\u001b[1;32m   1059\u001b[0m call\u001b[38;5;241m.\u001b[39m_call_callback_hooks(\u001b[38;5;28mself\u001b[39m, \u001b[38;5;124m\"\u001b[39m\u001b[38;5;124mon_sanity_check_end\u001b[39m\u001b[38;5;124m\"\u001b[39m)\n\u001b[1;32m   1061\u001b[0m \u001b[38;5;66;03m# reset logger connector\u001b[39;00m\n",
      "File \u001b[0;32m/opt/Anaconda3/envs/plmbind4/lib/python3.11/site-packages/pytorch_lightning/loops/utilities.py:182\u001b[0m, in \u001b[0;36m_no_grad_context.<locals>._decorator\u001b[0;34m(self, *args, **kwargs)\u001b[0m\n\u001b[1;32m    180\u001b[0m     context_manager \u001b[38;5;241m=\u001b[39m torch\u001b[38;5;241m.\u001b[39mno_grad\n\u001b[1;32m    181\u001b[0m \u001b[38;5;28;01mwith\u001b[39;00m context_manager():\n\u001b[0;32m--> 182\u001b[0m     \u001b[38;5;28;01mreturn\u001b[39;00m \u001b[43mloop_run\u001b[49m\u001b[43m(\u001b[49m\u001b[38;5;28;43mself\u001b[39;49m\u001b[43m,\u001b[49m\u001b[43m \u001b[49m\u001b[38;5;241;43m*\u001b[39;49m\u001b[43margs\u001b[49m\u001b[43m,\u001b[49m\u001b[43m \u001b[49m\u001b[38;5;241;43m*\u001b[39;49m\u001b[38;5;241;43m*\u001b[39;49m\u001b[43mkwargs\u001b[49m\u001b[43m)\u001b[49m\n",
      "File \u001b[0;32m/opt/Anaconda3/envs/plmbind4/lib/python3.11/site-packages/pytorch_lightning/loops/evaluation_loop.py:135\u001b[0m, in \u001b[0;36m_EvaluationLoop.run\u001b[0;34m(self)\u001b[0m\n\u001b[1;32m    133\u001b[0m     \u001b[38;5;28mself\u001b[39m\u001b[38;5;241m.\u001b[39mbatch_progress\u001b[38;5;241m.\u001b[39mis_last_batch \u001b[38;5;241m=\u001b[39m data_fetcher\u001b[38;5;241m.\u001b[39mdone\n\u001b[1;32m    134\u001b[0m     \u001b[38;5;66;03m# run step hooks\u001b[39;00m\n\u001b[0;32m--> 135\u001b[0m     \u001b[38;5;28;43mself\u001b[39;49m\u001b[38;5;241;43m.\u001b[39;49m\u001b[43m_evaluation_step\u001b[49m\u001b[43m(\u001b[49m\u001b[43mbatch\u001b[49m\u001b[43m,\u001b[49m\u001b[43m \u001b[49m\u001b[43mbatch_idx\u001b[49m\u001b[43m,\u001b[49m\u001b[43m \u001b[49m\u001b[43mdataloader_idx\u001b[49m\u001b[43m,\u001b[49m\u001b[43m \u001b[49m\u001b[43mdataloader_iter\u001b[49m\u001b[43m)\u001b[49m\n\u001b[1;32m    136\u001b[0m \u001b[38;5;28;01mexcept\u001b[39;00m \u001b[38;5;167;01mStopIteration\u001b[39;00m:\n\u001b[1;32m    137\u001b[0m     \u001b[38;5;66;03m# this needs to wrap the `*_step` call too (not just `next`) for `dataloader_iter` support\u001b[39;00m\n\u001b[1;32m    138\u001b[0m     \u001b[38;5;28;01mbreak\u001b[39;00m\n",
      "File \u001b[0;32m/opt/Anaconda3/envs/plmbind4/lib/python3.11/site-packages/pytorch_lightning/loops/evaluation_loop.py:396\u001b[0m, in \u001b[0;36m_EvaluationLoop._evaluation_step\u001b[0;34m(self, batch, batch_idx, dataloader_idx, dataloader_iter)\u001b[0m\n\u001b[1;32m    390\u001b[0m hook_name \u001b[38;5;241m=\u001b[39m \u001b[38;5;124m\"\u001b[39m\u001b[38;5;124mtest_step\u001b[39m\u001b[38;5;124m\"\u001b[39m \u001b[38;5;28;01mif\u001b[39;00m trainer\u001b[38;5;241m.\u001b[39mtesting \u001b[38;5;28;01melse\u001b[39;00m \u001b[38;5;124m\"\u001b[39m\u001b[38;5;124mvalidation_step\u001b[39m\u001b[38;5;124m\"\u001b[39m\n\u001b[1;32m    391\u001b[0m step_args \u001b[38;5;241m=\u001b[39m (\n\u001b[1;32m    392\u001b[0m     \u001b[38;5;28mself\u001b[39m\u001b[38;5;241m.\u001b[39m_build_step_args_from_hook_kwargs(hook_kwargs, hook_name)\n\u001b[1;32m    393\u001b[0m     \u001b[38;5;28;01mif\u001b[39;00m \u001b[38;5;129;01mnot\u001b[39;00m using_dataloader_iter\n\u001b[1;32m    394\u001b[0m     \u001b[38;5;28;01melse\u001b[39;00m (dataloader_iter,)\n\u001b[1;32m    395\u001b[0m )\n\u001b[0;32m--> 396\u001b[0m output \u001b[38;5;241m=\u001b[39m \u001b[43mcall\u001b[49m\u001b[38;5;241;43m.\u001b[39;49m\u001b[43m_call_strategy_hook\u001b[49m\u001b[43m(\u001b[49m\u001b[43mtrainer\u001b[49m\u001b[43m,\u001b[49m\u001b[43m \u001b[49m\u001b[43mhook_name\u001b[49m\u001b[43m,\u001b[49m\u001b[43m \u001b[49m\u001b[38;5;241;43m*\u001b[39;49m\u001b[43mstep_args\u001b[49m\u001b[43m)\u001b[49m\n\u001b[1;32m    398\u001b[0m \u001b[38;5;28mself\u001b[39m\u001b[38;5;241m.\u001b[39mbatch_progress\u001b[38;5;241m.\u001b[39mincrement_processed()\n\u001b[1;32m    400\u001b[0m \u001b[38;5;28;01mif\u001b[39;00m using_dataloader_iter:\n\u001b[1;32m    401\u001b[0m     \u001b[38;5;66;03m# update the hook kwargs now that the step method might have consumed the iterator\u001b[39;00m\n",
      "File \u001b[0;32m/opt/Anaconda3/envs/plmbind4/lib/python3.11/site-packages/pytorch_lightning/trainer/call.py:311\u001b[0m, in \u001b[0;36m_call_strategy_hook\u001b[0;34m(trainer, hook_name, *args, **kwargs)\u001b[0m\n\u001b[1;32m    308\u001b[0m     \u001b[38;5;28;01mreturn\u001b[39;00m \u001b[38;5;28;01mNone\u001b[39;00m\n\u001b[1;32m    310\u001b[0m \u001b[38;5;28;01mwith\u001b[39;00m trainer\u001b[38;5;241m.\u001b[39mprofiler\u001b[38;5;241m.\u001b[39mprofile(\u001b[38;5;124mf\u001b[39m\u001b[38;5;124m\"\u001b[39m\u001b[38;5;124m[Strategy]\u001b[39m\u001b[38;5;132;01m{\u001b[39;00mtrainer\u001b[38;5;241m.\u001b[39mstrategy\u001b[38;5;241m.\u001b[39m\u001b[38;5;18m__class__\u001b[39m\u001b[38;5;241m.\u001b[39m\u001b[38;5;18m__name__\u001b[39m\u001b[38;5;132;01m}\u001b[39;00m\u001b[38;5;124m.\u001b[39m\u001b[38;5;132;01m{\u001b[39;00mhook_name\u001b[38;5;132;01m}\u001b[39;00m\u001b[38;5;124m\"\u001b[39m):\n\u001b[0;32m--> 311\u001b[0m     output \u001b[38;5;241m=\u001b[39m \u001b[43mfn\u001b[49m\u001b[43m(\u001b[49m\u001b[38;5;241;43m*\u001b[39;49m\u001b[43margs\u001b[49m\u001b[43m,\u001b[49m\u001b[43m \u001b[49m\u001b[38;5;241;43m*\u001b[39;49m\u001b[38;5;241;43m*\u001b[39;49m\u001b[43mkwargs\u001b[49m\u001b[43m)\u001b[49m\n\u001b[1;32m    313\u001b[0m \u001b[38;5;66;03m# restore current_fx when nested context\u001b[39;00m\n\u001b[1;32m    314\u001b[0m pl_module\u001b[38;5;241m.\u001b[39m_current_fx_name \u001b[38;5;241m=\u001b[39m prev_fx_name\n",
      "File \u001b[0;32m/opt/Anaconda3/envs/plmbind4/lib/python3.11/site-packages/pytorch_lightning/strategies/strategy.py:411\u001b[0m, in \u001b[0;36mStrategy.validation_step\u001b[0;34m(self, *args, **kwargs)\u001b[0m\n\u001b[1;32m    409\u001b[0m \u001b[38;5;28;01mif\u001b[39;00m \u001b[38;5;28mself\u001b[39m\u001b[38;5;241m.\u001b[39mmodel \u001b[38;5;241m!=\u001b[39m \u001b[38;5;28mself\u001b[39m\u001b[38;5;241m.\u001b[39mlightning_module:\n\u001b[1;32m    410\u001b[0m     \u001b[38;5;28;01mreturn\u001b[39;00m \u001b[38;5;28mself\u001b[39m\u001b[38;5;241m.\u001b[39m_forward_redirection(\u001b[38;5;28mself\u001b[39m\u001b[38;5;241m.\u001b[39mmodel, \u001b[38;5;28mself\u001b[39m\u001b[38;5;241m.\u001b[39mlightning_module, \u001b[38;5;124m\"\u001b[39m\u001b[38;5;124mvalidation_step\u001b[39m\u001b[38;5;124m\"\u001b[39m, \u001b[38;5;241m*\u001b[39margs, \u001b[38;5;241m*\u001b[39m\u001b[38;5;241m*\u001b[39mkwargs)\n\u001b[0;32m--> 411\u001b[0m \u001b[38;5;28;01mreturn\u001b[39;00m \u001b[38;5;28;43mself\u001b[39;49m\u001b[38;5;241;43m.\u001b[39;49m\u001b[43mlightning_module\u001b[49m\u001b[38;5;241;43m.\u001b[39;49m\u001b[43mvalidation_step\u001b[49m\u001b[43m(\u001b[49m\u001b[38;5;241;43m*\u001b[39;49m\u001b[43margs\u001b[49m\u001b[43m,\u001b[49m\u001b[43m \u001b[49m\u001b[38;5;241;43m*\u001b[39;49m\u001b[38;5;241;43m*\u001b[39;49m\u001b[43mkwargs\u001b[49m\u001b[43m)\u001b[49m\n",
      "File \u001b[0;32m~/Negatives/TFBS_negatives/TFBS_negatives/models.py:289\u001b[0m, in \u001b[0;36mmultilabel.validation_step\u001b[0;34m(self, train_batch, batch_idx, dataloader_idx)\u001b[0m\n\u001b[1;32m    286\u001b[0m x_DNA \u001b[38;5;241m=\u001b[39m train_batch[\u001b[38;5;124m\"\u001b[39m\u001b[38;5;124m1/DNA_regions\u001b[39m\u001b[38;5;124m\"\u001b[39m]\n\u001b[1;32m    287\u001b[0m y \u001b[38;5;241m=\u001b[39m train_batch[\u001b[38;5;124m\"\u001b[39m\u001b[38;5;124mcentral\u001b[39m\u001b[38;5;124m\"\u001b[39m]\n\u001b[0;32m--> 289\u001b[0m y_hat \u001b[38;5;241m=\u001b[39m \u001b[38;5;28;43mself\u001b[39;49m\u001b[43m(\u001b[49m\u001b[43mx_DNA\u001b[49m\u001b[43m)\u001b[49m\n\u001b[1;32m    290\u001b[0m loss \u001b[38;5;241m=\u001b[39m \u001b[38;5;28mself\u001b[39m\u001b[38;5;241m.\u001b[39mloss_function(y_hat, y\u001b[38;5;241m.\u001b[39mfloat())\n\u001b[1;32m    291\u001b[0m \u001b[38;5;28mself\u001b[39m\u001b[38;5;241m.\u001b[39mlog(\u001b[38;5;124m'\u001b[39m\u001b[38;5;124mval_loss\u001b[39m\u001b[38;5;124m'\u001b[39m, loss, prog_bar\u001b[38;5;241m=\u001b[39m\u001b[38;5;28;01mTrue\u001b[39;00m)\n",
      "File \u001b[0;32m/opt/Anaconda3/envs/plmbind4/lib/python3.11/site-packages/torch/nn/modules/module.py:1736\u001b[0m, in \u001b[0;36mModule._wrapped_call_impl\u001b[0;34m(self, *args, **kwargs)\u001b[0m\n\u001b[1;32m   1734\u001b[0m     \u001b[38;5;28;01mreturn\u001b[39;00m \u001b[38;5;28mself\u001b[39m\u001b[38;5;241m.\u001b[39m_compiled_call_impl(\u001b[38;5;241m*\u001b[39margs, \u001b[38;5;241m*\u001b[39m\u001b[38;5;241m*\u001b[39mkwargs)  \u001b[38;5;66;03m# type: ignore[misc]\u001b[39;00m\n\u001b[1;32m   1735\u001b[0m \u001b[38;5;28;01melse\u001b[39;00m:\n\u001b[0;32m-> 1736\u001b[0m     \u001b[38;5;28;01mreturn\u001b[39;00m \u001b[38;5;28;43mself\u001b[39;49m\u001b[38;5;241;43m.\u001b[39;49m\u001b[43m_call_impl\u001b[49m\u001b[43m(\u001b[49m\u001b[38;5;241;43m*\u001b[39;49m\u001b[43margs\u001b[49m\u001b[43m,\u001b[49m\u001b[43m \u001b[49m\u001b[38;5;241;43m*\u001b[39;49m\u001b[38;5;241;43m*\u001b[39;49m\u001b[43mkwargs\u001b[49m\u001b[43m)\u001b[49m\n",
      "File \u001b[0;32m/opt/Anaconda3/envs/plmbind4/lib/python3.11/site-packages/torch/nn/modules/module.py:1747\u001b[0m, in \u001b[0;36mModule._call_impl\u001b[0;34m(self, *args, **kwargs)\u001b[0m\n\u001b[1;32m   1742\u001b[0m \u001b[38;5;66;03m# If we don't have any hooks, we want to skip the rest of the logic in\u001b[39;00m\n\u001b[1;32m   1743\u001b[0m \u001b[38;5;66;03m# this function, and just call forward.\u001b[39;00m\n\u001b[1;32m   1744\u001b[0m \u001b[38;5;28;01mif\u001b[39;00m \u001b[38;5;129;01mnot\u001b[39;00m (\u001b[38;5;28mself\u001b[39m\u001b[38;5;241m.\u001b[39m_backward_hooks \u001b[38;5;129;01mor\u001b[39;00m \u001b[38;5;28mself\u001b[39m\u001b[38;5;241m.\u001b[39m_backward_pre_hooks \u001b[38;5;129;01mor\u001b[39;00m \u001b[38;5;28mself\u001b[39m\u001b[38;5;241m.\u001b[39m_forward_hooks \u001b[38;5;129;01mor\u001b[39;00m \u001b[38;5;28mself\u001b[39m\u001b[38;5;241m.\u001b[39m_forward_pre_hooks\n\u001b[1;32m   1745\u001b[0m         \u001b[38;5;129;01mor\u001b[39;00m _global_backward_pre_hooks \u001b[38;5;129;01mor\u001b[39;00m _global_backward_hooks\n\u001b[1;32m   1746\u001b[0m         \u001b[38;5;129;01mor\u001b[39;00m _global_forward_hooks \u001b[38;5;129;01mor\u001b[39;00m _global_forward_pre_hooks):\n\u001b[0;32m-> 1747\u001b[0m     \u001b[38;5;28;01mreturn\u001b[39;00m \u001b[43mforward_call\u001b[49m\u001b[43m(\u001b[49m\u001b[38;5;241;43m*\u001b[39;49m\u001b[43margs\u001b[49m\u001b[43m,\u001b[49m\u001b[43m \u001b[49m\u001b[38;5;241;43m*\u001b[39;49m\u001b[38;5;241;43m*\u001b[39;49m\u001b[43mkwargs\u001b[49m\u001b[43m)\u001b[49m\n\u001b[1;32m   1749\u001b[0m result \u001b[38;5;241m=\u001b[39m \u001b[38;5;28;01mNone\u001b[39;00m\n\u001b[1;32m   1750\u001b[0m called_always_called_hooks \u001b[38;5;241m=\u001b[39m \u001b[38;5;28mset\u001b[39m()\n",
      "File \u001b[0;32m~/Negatives/TFBS_negatives/TFBS_negatives/models.py:261\u001b[0m, in \u001b[0;36mmultilabel.forward\u001b[0;34m(self, x_DNA_in)\u001b[0m\n\u001b[1;32m    260\u001b[0m \u001b[38;5;28;01mdef\u001b[39;00m \u001b[38;5;21mforward\u001b[39m(\u001b[38;5;28mself\u001b[39m, x_DNA_in):\n\u001b[0;32m--> 261\u001b[0m     x_DNA \u001b[38;5;241m=\u001b[39m \u001b[38;5;28mself\u001b[39m\u001b[38;5;241m.\u001b[39mDNA_branch(\u001b[38;5;28mself\u001b[39m\u001b[38;5;241m.\u001b[39membedding(\u001b[43mtorch\u001b[49m\u001b[38;5;241;43m.\u001b[39;49m\u001b[43mtensor\u001b[49m\u001b[43m(\u001b[49m\u001b[43mx_DNA_in\u001b[49m\u001b[43m)\u001b[49m)\u001b[38;5;241m.\u001b[39mpermute(\u001b[38;5;241m0\u001b[39m, \u001b[38;5;241m2\u001b[39m, \u001b[38;5;241m1\u001b[39m))\n\u001b[1;32m    262\u001b[0m     \u001b[38;5;28;01mreturn\u001b[39;00m x_DNA\n",
      "\u001b[0;31mTypeError\u001b[0m: only integer tensors of a single element can be converted to an index"
     ]
    }
   ],
   "source": [
    "trainer.fit(model, Dmod)  "
   ]
  }
 ],
 "metadata": {
  "kernelspec": {
   "display_name": "Negatives",
   "language": "python",
   "name": "python3"
  },
  "language_info": {
   "codemirror_mode": {
    "name": "ipython",
    "version": 3
   },
   "file_extension": ".py",
   "mimetype": "text/x-python",
   "name": "python",
   "nbconvert_exporter": "python",
   "pygments_lexer": "ipython3",
   "version": "3.13.3"
  }
 },
 "nbformat": 4,
 "nbformat_minor": 2
}
