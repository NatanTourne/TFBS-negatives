{
 "cells": [
  {
   "cell_type": "code",
   "execution_count": 1,
   "metadata": {},
   "outputs": [],
   "source": [
    "input_folder = \"/data/home/natant/Negatives/Data/Encode690/ENCODE_hg38_subset_celltype_merged\"\n",
    "output_folder = \"/data/home/natant/Negatives/Data/Encode690/ENOCDE_hg38_subset_celltype_merged_no_CTCF\""
   ]
  },
  {
   "cell_type": "code",
   "execution_count": 2,
   "metadata": {},
   "outputs": [
    {
     "ename": "",
     "evalue": "",
     "output_type": "error",
     "traceback": [
      "\u001b[1;31mnotebook controller is DISPOSED. \n",
      "\u001b[1;31mView Jupyter <a href='command:jupyter.viewOutput'>log</a> for further details."
     ]
    },
    {
     "ename": "",
     "evalue": "",
     "output_type": "error",
     "traceback": [
      "\u001b[1;31mnotebook controller is DISPOSED. \n",
      "\u001b[1;31mView Jupyter <a href='command:jupyter.viewOutput'>log</a> for further details."
     ]
    }
   ],
   "source": [
    "import os\n",
    "import pandas as pd\n",
    "\n",
    "# Function to process files\n",
    "def remove_ctcf(input_folder, output_folder):\n",
    "    for file_name in os.listdir(input_folder):\n",
    "        if file_name.endswith(\"_concatenated.narrowPeak\"):\n",
    "            file_path = os.path.join(input_folder, file_name)\n",
    "            df = pd.read_csv(file_path, sep='\\t', header=None)\n",
    "            \n",
    "            # Filter out rows where the 4th column is 'CTCF'\n",
    "            df_filtered = df[df[3] != 'CTCF']\n",
    "            \n",
    "            # Save the filtered dataframe to the output folder\n",
    "            output_file_name = file_name.replace(\"_concatenated.narrowPeak\", \"_concatenated_no_CTCF.narrowPeak\")\n",
    "            output_file_path = os.path.join(output_folder, output_file_name)\n",
    "            df_filtered.to_csv(output_file_path, sep='\\t', header=False, index=False)\n",
    "\n",
    "# Call the function\n",
    "remove_ctcf(input_folder, output_folder)"
   ]
  },
  {
   "cell_type": "code",
   "execution_count": 6,
   "metadata": {},
   "outputs": [
    {
     "data": {
      "text/html": [
       "<div>\n",
       "<style scoped>\n",
       "    .dataframe tbody tr th:only-of-type {\n",
       "        vertical-align: middle;\n",
       "    }\n",
       "\n",
       "    .dataframe tbody tr th {\n",
       "        vertical-align: top;\n",
       "    }\n",
       "\n",
       "    .dataframe thead th {\n",
       "        text-align: right;\n",
       "    }\n",
       "</style>\n",
       "<table border=\"1\" class=\"dataframe\">\n",
       "  <thead>\n",
       "    <tr style=\"text-align: right;\">\n",
       "      <th></th>\n",
       "      <th>Cell Type</th>\n",
       "      <th>Original Length</th>\n",
       "      <th>New Length</th>\n",
       "      <th>Percentage Removed</th>\n",
       "      <th>unique_TFs</th>\n",
       "    </tr>\n",
       "  </thead>\n",
       "  <tbody>\n",
       "    <tr>\n",
       "      <th>0</th>\n",
       "      <td>IMR90</td>\n",
       "      <td>40829</td>\n",
       "      <td>40829</td>\n",
       "      <td>0.000000</td>\n",
       "      <td>1</td>\n",
       "    </tr>\n",
       "    <tr>\n",
       "      <th>1</th>\n",
       "      <td>MCF-7</td>\n",
       "      <td>346656</td>\n",
       "      <td>26385</td>\n",
       "      <td>92.388708</td>\n",
       "      <td>3</td>\n",
       "    </tr>\n",
       "    <tr>\n",
       "      <th>2</th>\n",
       "      <td>HCT-116</td>\n",
       "      <td>87083</td>\n",
       "      <td>36626</td>\n",
       "      <td>57.941274</td>\n",
       "      <td>3</td>\n",
       "    </tr>\n",
       "    <tr>\n",
       "      <th>3</th>\n",
       "      <td>HepG2</td>\n",
       "      <td>549774</td>\n",
       "      <td>500944</td>\n",
       "      <td>8.881831</td>\n",
       "      <td>33</td>\n",
       "    </tr>\n",
       "    <tr>\n",
       "      <th>4</th>\n",
       "      <td>K562</td>\n",
       "      <td>545857</td>\n",
       "      <td>502453</td>\n",
       "      <td>7.951533</td>\n",
       "      <td>35</td>\n",
       "    </tr>\n",
       "    <tr>\n",
       "      <th>5</th>\n",
       "      <td>HEK293</td>\n",
       "      <td>56458</td>\n",
       "      <td>8995</td>\n",
       "      <td>84.067803</td>\n",
       "      <td>1</td>\n",
       "    </tr>\n",
       "    <tr>\n",
       "      <th>6</th>\n",
       "      <td>PANC-1</td>\n",
       "      <td>13416</td>\n",
       "      <td>13416</td>\n",
       "      <td>0.000000</td>\n",
       "      <td>1</td>\n",
       "    </tr>\n",
       "    <tr>\n",
       "      <th>7</th>\n",
       "      <td>GM12878</td>\n",
       "      <td>440936</td>\n",
       "      <td>400703</td>\n",
       "      <td>9.124453</td>\n",
       "      <td>35</td>\n",
       "    </tr>\n",
       "    <tr>\n",
       "      <th>8</th>\n",
       "      <td>A549</td>\n",
       "      <td>195653</td>\n",
       "      <td>149763</td>\n",
       "      <td>23.454790</td>\n",
       "      <td>13</td>\n",
       "    </tr>\n",
       "  </tbody>\n",
       "</table>\n",
       "</div>"
      ],
      "text/plain": [
       "  Cell Type  Original Length  New Length  Percentage Removed  unique_TFs\n",
       "0     IMR90            40829       40829            0.000000           1\n",
       "1     MCF-7           346656       26385           92.388708           3\n",
       "2   HCT-116            87083       36626           57.941274           3\n",
       "3     HepG2           549774      500944            8.881831          33\n",
       "4      K562           545857      502453            7.951533          35\n",
       "5    HEK293            56458        8995           84.067803           1\n",
       "6    PANC-1            13416       13416            0.000000           1\n",
       "7   GM12878           440936      400703            9.124453          35\n",
       "8      A549           195653      149763           23.454790          13"
      ]
     },
     "execution_count": 6,
     "metadata": {},
     "output_type": "execute_result"
    },
    {
     "ename": "",
     "evalue": "",
     "output_type": "error",
     "traceback": [
      "\u001b[1;31mnotebook controller is DISPOSED. \n",
      "\u001b[1;31mView Jupyter <a href='command:jupyter.viewOutput'>log</a> for further details."
     ]
    },
    {
     "ename": "",
     "evalue": "",
     "output_type": "error",
     "traceback": [
      "\u001b[1;31mnotebook controller is DISPOSED. \n",
      "\u001b[1;31mView Jupyter <a href='command:jupyter.viewOutput'>log</a> for further details."
     ]
    }
   ],
   "source": [
    "# Function to compare file lengths and note down the results\n",
    "def compare_file_lengths(input_folder, output_folder):\n",
    "    results = []\n",
    "    \n",
    "    for file_name in os.listdir(input_folder):\n",
    "        if file_name.endswith(\"_concatenated.narrowPeak\"):\n",
    "            input_file_path = os.path.join(input_folder, file_name)\n",
    "            output_file_name = file_name.replace(\"_concatenated.narrowPeak\", \"_concatenated_no_CTCF.narrowPeak\")\n",
    "            output_file_path = os.path.join(output_folder, output_file_name)\n",
    "            \n",
    "            # Read the input and output files\n",
    "            df_input = pd.read_csv(input_file_path, sep='\\t', header=None)\n",
    "            df_output = pd.read_csv(output_file_path, sep='\\t', header=None)\n",
    "            \n",
    "            unique_TFs = df_output[3].nunique()\n",
    "            # Calculate the number of rows and percentage of lines removed\n",
    "            original_length = len(df_input)\n",
    "            new_length = len(df_output)\n",
    "            percentage_removed = ((original_length - new_length) / original_length) * 100\n",
    "            \n",
    "            # Extract cell type from file name\n",
    "            cell_type = file_name.split('_')[0]\n",
    "            \n",
    "            # Append the results to the list\n",
    "            results.append([cell_type, original_length, new_length, percentage_removed, unique_TFs])\n",
    "    \n",
    "    # Create a dataframe to display the results\n",
    "    results_df = pd.DataFrame(results, columns=['Cell Type', 'Original Length', 'New Length', 'Percentage Removed', 'unique_TFs'])\n",
    "    return results_df\n",
    "\n",
    "# Call the function and display the results\n",
    "results_df = compare_file_lengths(input_folder, output_folder)\n",
    "\n",
    "results_df\n"
   ]
  },
  {
   "cell_type": "code",
   "execution_count": 10,
   "metadata": {},
   "outputs": [
    {
     "name": "stdout",
     "output_type": "stream",
     "text": [
      "Total number of peaks: 149763\n",
      "Number of overlapping peaks: 69257\n",
      "Percentage of overlapping peaks: 46.24%\n"
     ]
    },
    {
     "ename": "",
     "evalue": "",
     "output_type": "error",
     "traceback": [
      "\u001b[1;31mnotebook controller is DISPOSED. \n",
      "\u001b[1;31mView Jupyter <a href='command:jupyter.viewOutput'>log</a> for further details."
     ]
    },
    {
     "ename": "",
     "evalue": "",
     "output_type": "error",
     "traceback": [
      "\u001b[1;31mnotebook controller is DISPOSED. \n",
      "\u001b[1;31mView Jupyter <a href='command:jupyter.viewOutput'>log</a> for further details."
     ]
    }
   ],
   "source": [
    "import pybedtools\n",
    "import os\n",
    "import matplotlib.pyplot as plt\n",
    "\n",
    "# Get the list of ChIP files in the input folder\n",
    "chip_files = [f for f in os.listdir(output_folder) if f.endswith('_concatenated_no_CTCF.narrowPeak')]\n",
    "\n",
    "# Take the first file\n",
    "first_chip_file = os.path.join(output_folder, chip_files[1])\n",
    "\n",
    "# Load the file using pybedtools\n",
    "bed = pybedtools.BedTool(first_chip_file)\n",
    "\n",
    "# Merge peaks with a maximum of 40 bp overlap allowed before merging\n",
    "merged_bed = bed.merge(d=-40)\n",
    "\n",
    "# Calculate the number of original peaks and merged peaks\n",
    "original_peak_count = len(bed)\n",
    "merged_peak_count = len(merged_bed)\n",
    "\n",
    "# Calculate the number of overlapping peaks\n",
    "overlapping_peak_count = original_peak_count - merged_peak_count\n",
    "\n",
    "# Calculate the percentage of overlapping peaks\n",
    "overlapping_peak_percentage = (overlapping_peak_count / original_peak_count) * 100\n",
    "\n",
    "print(f\"Total number of peaks: {original_peak_count}\")\n",
    "print(f\"Number of overlapping peaks: {overlapping_peak_count}\")\n",
    "print(f\"Percentage of overlapping peaks: {overlapping_peak_percentage:.2f}%\")"
   ]
  },
  {
   "cell_type": "code",
   "execution_count": null,
   "metadata": {},
   "outputs": [
    {
     "ename": "NameError",
     "evalue": "name 'plt' is not defined",
     "output_type": "error",
     "traceback": [
      "\u001b[0;31m---------------------------------------------------------------------------\u001b[0m",
      "\u001b[0;31mNameError\u001b[0m                                 Traceback (most recent call last)",
      "Cell \u001b[0;32mIn[1], line 13\u001b[0m\n\u001b[1;32m     10\u001b[0m     \u001b[38;5;28;01mreturn\u001b[39;00m \u001b[38;5;28mlen\u001b[39m(tfs)\n\u001b[1;32m     12\u001b[0m \u001b[38;5;66;03m# Initialize a figure for subplots\u001b[39;00m\n\u001b[0;32m---> 13\u001b[0m fig, axes \u001b[38;5;241m=\u001b[39m \u001b[43mplt\u001b[49m\u001b[38;5;241m.\u001b[39msubplots(\u001b[38;5;28mlen\u001b[39m(chip_files), \u001b[38;5;241m1\u001b[39m, figsize\u001b[38;5;241m=\u001b[39m(\u001b[38;5;241m10\u001b[39m, \u001b[38;5;28mlen\u001b[39m(chip_files) \u001b[38;5;241m*\u001b[39m \u001b[38;5;241m5\u001b[39m), sharex\u001b[38;5;241m=\u001b[39m\u001b[38;5;28;01mTrue\u001b[39;00m)\n\u001b[1;32m     15\u001b[0m \u001b[38;5;66;03m# Loop through each ChIP file and generate the plot\u001b[39;00m\n\u001b[1;32m     16\u001b[0m \u001b[38;5;28;01mfor\u001b[39;00m i, chip_file \u001b[38;5;129;01min\u001b[39;00m \u001b[38;5;28menumerate\u001b[39m(tqdm(chip_files, desc\u001b[38;5;241m=\u001b[39m\u001b[38;5;124m\"\u001b[39m\u001b[38;5;124mProcessing ChIP files\u001b[39m\u001b[38;5;124m\"\u001b[39m)):\n\u001b[1;32m     17\u001b[0m     \u001b[38;5;66;03m# Load the file using pybedtools\u001b[39;00m\n",
      "\u001b[0;31mNameError\u001b[0m: name 'plt' is not defined"
     ]
    },
    {
     "ename": "",
     "evalue": "",
     "output_type": "error",
     "traceback": [
      "\u001b[1;31mnotebook controller is DISPOSED. \n",
      "\u001b[1;31mView Jupyter <a href='command:jupyter.viewOutput'>log</a> for further details."
     ]
    },
    {
     "ename": "",
     "evalue": "",
     "output_type": "error",
     "traceback": [
      "\u001b[1;31mnotebook controller is DISPOSED. \n",
      "\u001b[1;31mView Jupyter <a href='command:jupyter.viewOutput'>log</a> for further details."
     ]
    }
   ],
   "source": [
    "from tqdm import tqdm\n",
    "\n",
    "# Initialize lists to store the results\n",
    "d_values = list(range(1, 101))\n",
    "overlapping_percentages = []\n",
    "\n",
    "def get_unique_tfs_from_file(file_path):\n",
    "    with open(file_path, 'r') as file:\n",
    "        tfs = set(line.split()[3] for line in file)\n",
    "    return len(tfs)\n",
    "\n",
    "# Initialize a figure for subplots\n",
    "fig, axes = plt.subplots(len(chip_files), 1, figsize=(10, len(chip_files) * 5), sharex=True)\n",
    "\n",
    "# Loop through each ChIP file and generate the plot\n",
    "for i, chip_file in enumerate(tqdm(chip_files, desc=\"Processing ChIP files\")):\n",
    "    # Load the file using pybedtools\n",
    "    bed = pybedtools.BedTool(os.path.join(output_folder, chip_file))\n",
    "    \n",
    "    # Initialize lists to store the results\n",
    "    overlapping_percentages = []\n",
    "\n",
    "    # Loop through each value of d and calculate the overlapping percentage\n",
    "    for d in d_values:\n",
    "        merged_bed = bed.merge(d=-d)\n",
    "        merged_peak_count = len(merged_bed)\n",
    "        overlapping_peak_count = len(bed) - merged_peak_count\n",
    "        overlapping_peak_percentage = (overlapping_peak_count / len(bed))\n",
    "        overlapping_percentages.append(overlapping_peak_percentage)\n",
    "\n",
    "    # Get the cell type from the file name\n",
    "    cell_type = chip_file.split(\"_\")[0]\n",
    "    \n",
    "    # Get the number of unique TFs for the cell type\n",
    "    unique_tfs = get_unique_tfs_from_file(os.path.join(output_folder, chip_file))\n",
    "\n",
    "    # Plot the results\n",
    "    axes[i].plot(d_values, overlapping_percentages, marker='o')\n",
    "    axes[i].set_ylabel('Percentage of Overlapping Peaks')\n",
    "    axes[i].set_title(f'Cell Type: {cell_type} (Unique TFs: {unique_tfs})')\n",
    "    axes[i].grid(True)\n",
    "    axes[i].set_ylim(0, max(overlapping_percentages) * 1.1)\n",
    "\n",
    "# Set common labels\n",
    "axes[-1].set_xlabel('d value in bed.merge')\n",
    "\n",
    "plt.tight_layout()\n",
    "plt.show()\n"
   ]
  }
 ],
 "metadata": {
  "kernelspec": {
   "display_name": "plmbind4",
   "language": "python",
   "name": "python3"
  },
  "language_info": {
   "codemirror_mode": {
    "name": "ipython",
    "version": 3
   },
   "file_extension": ".py",
   "mimetype": "text/x-python",
   "name": "python",
   "nbconvert_exporter": "python",
   "pygments_lexer": "ipython3",
   "version": "3.11.9"
  }
 },
 "nbformat": 4,
 "nbformat_minor": 2
}
