{
 "cells": [
  {
   "cell_type": "code",
   "execution_count": 1,
   "id": "969630ad",
   "metadata": {},
   "outputs": [
    {
     "name": "stderr",
     "output_type": "stream",
     "text": [
      "/data/home/natant/anaconda3/envs/Negs/lib/python3.11/site-packages/tqdm/auto.py:21: TqdmWarning: IProgress not found. Please update jupyter and ipywidgets. See https://ipywidgets.readthedocs.io/en/stable/user_install.html\n",
      "  from .autonotebook import tqdm as notebook_tqdm\n"
     ]
    }
   ],
   "source": [
    "from TFBS_negatives.data import neighbor_negs\n",
    "import h5torch\n",
    "part3 = ['chr12', 'chr12_GL383549v1_alt', 'chr12_GL383550v2_alt', 'chr12_GL383551v1_alt', 'chr12_GL383552v1_alt', 'chr12_GL383553v2_alt', 'chr12_GL877875v1_alt', 'chr12_GL877876v1_alt', 'chr12_KI270833v1_alt', 'chr12_KI270834v1_alt', 'chr12_KI270835v1_alt', 'chr12_KI270836v1_alt', 'chr12_KI270837v1_alt', 'chr12_KI270904v1_alt', 'chr14', 'chr14_GL000009v2_random', 'chr14_GL000194v1_random', 'chr14_GL000225v1_random', 'chr14_KI270722v1_random', 'chr14_KI270723v1_random', 'chr14_KI270724v1_random', 'chr14_KI270725v1_random', 'chr14_KI270726v1_random', 'chr14_KI270844v1_alt', 'chr14_KI270845v1_alt', 'chr14_KI270846v1_alt', 'chr14_KI270847v1_alt', 'chr16', 'chr16_GL383556v1_alt', 'chr16_GL383557v1_alt', 'chr16_KI270728v1_random', 'chr16_KI270853v1_alt', 'chr16_KI270854v1_alt', 'chr16_KI270855v1_alt', 'chr16_KI270856v1_alt', 'chr17', 'chr17_GL000205v2_random', 'chr17_GL000258v2_alt', 'chr17_GL383563v3_alt', 'chr17_GL383564v2_alt', 'chr17_GL383565v1_alt', 'chr17_GL383566v1_alt', 'chr17_JH159146v1_alt', 'chr17_JH159147v1_alt', 'chr17_JH159148v1_alt', 'chr17_KI270729v1_random', 'chr17_KI270730v1_random', 'chr17_KI270857v1_alt', 'chr17_KI270858v1_alt', 'chr17_KI270859v1_alt', 'chr17_KI270860v1_alt', 'chr17_KI270861v1_alt', 'chr17_KI270862v1_alt', 'chr17_KI270907v1_alt', 'chr17_KI270908v1_alt', 'chr17_KI270909v1_alt', 'chr17_KI270910v1_alt', 'chr2', 'chr2_GL383521v1_alt', 'chr2_GL383522v1_alt', 'chr2_GL582966v2_alt', 'chr2_KI270715v1_random', 'chr2_KI270716v1_random', 'chr2_KI270767v1_alt', 'chr2_KI270768v1_alt', 'chr2_KI270769v1_alt', 'chr2_KI270770v1_alt', 'chr2_KI270771v1_alt', 'chr2_KI270772v1_alt', 'chr2_KI270773v1_alt', 'chr2_KI270774v1_alt', 'chr2_KI270775v1_alt', 'chr2_KI270776v1_alt', 'chr2_KI270893v1_alt', 'chr2_KI270894v1_alt', 'chr5', 'chr5_GL000208v1_random', 'chr5_GL339449v2_alt', 'chr5_GL383530v1_alt', 'chr5_GL383531v1_alt', 'chr5_GL383532v1_alt', 'chr5_GL949742v1_alt', 'chr5_KI270791v1_alt', 'chr5_KI270792v1_alt', 'chr5_KI270793v1_alt', 'chr5_KI270794v1_alt', 'chr5_KI270795v1_alt', 'chr5_KI270796v1_alt', 'chr5_KI270897v1_alt', 'chr5_KI270898v1_alt', 'chr6', 'chr6_GL000250v2_alt', 'chr6_GL000251v2_alt', 'chr6_GL000252v2_alt', 'chr6_GL000253v2_alt', 'chr6_GL000254v2_alt', 'chr6_GL000255v2_alt', 'chr6_GL000256v2_alt', 'chr6_GL383533v1_alt', 'chr6_KB021644v2_alt', 'chr6_KI270758v1_alt', 'chr6_KI270797v1_alt', 'chr6_KI270798v1_alt', 'chr6_KI270799v1_alt', 'chr6_KI270800v1_alt', 'chr6_KI270801v1_alt', 'chr6_KI270802v1_alt', 'chr8', 'chr8_KI270810v1_alt', 'chr8_KI270811v1_alt', 'chr8_KI270812v1_alt', 'chr8_KI270813v1_alt', 'chr8_KI270814v1_alt', 'chr8_KI270815v1_alt', 'chr8_KI270816v1_alt', 'chr8_KI270817v1_alt', 'chr8_KI270818v1_alt', 'chr8_KI270819v1_alt', 'chr8_KI270820v1_alt', 'chr8_KI270821v1_alt', 'chr8_KI270822v1_alt', 'chr8_KI270900v1_alt', 'chr8_KI270901v1_alt', 'chr8_KI270926v1_alt']\n",
    "celltype_file = \"/data/home/natant/Negatives/Data/Encode690/ENCODE_hg38_subset_101bp_celltypes_ATAC_H5_all_chr/A549.h5t\"\n",
    "file = h5torch.File(celltype_file, 'r')\n",
    "TF = \"CTCF\"\n",
    "dataset = neighbor_negs(file, TF, subset=part3, deterministic_sampling=True)\n",
    "dataset_2 = neighbor_negs(file, TF, subset=part3, deterministic_sampling=False)"
   ]
  },
  {
   "cell_type": "code",
   "execution_count": null,
   "id": "d6a5be3d",
   "metadata": {},
   "outputs": [
    {
     "data": {
      "text/plain": [
       "18769"
      ]
     },
     "execution_count": 4,
     "metadata": {},
     "output_type": "execute_result"
    }
   ],
   "source": [
    "len(dataset.peak_ix_to_pos) #! ID NEEDS TO BE MORE THEN THIS FOR A NEGATIVE SAMPLE!"
   ]
  },
  {
   "cell_type": "code",
   "execution_count": 5,
   "id": "92c9ae18",
   "metadata": {},
   "outputs": [
    {
     "name": "stdout",
     "output_type": "stream",
     "text": [
      "[1 2 1 1 2 1 2 1 3 1]\n",
      "[1 2 1 1 2 1 2 1 3 1]\n",
      "[1 2 1 1 2 1 2 1 3 1]\n",
      "[1 2 1 1 2 1 2 1 3 1]\n",
      "[1 2 1 1 2 1 2 1 3 1]\n",
      "[1 2 1 1 2 1 2 1 3 1]\n",
      "[1 2 1 1 2 1 2 1 3 1]\n",
      "[1 2 1 1 2 1 2 1 3 1]\n",
      "[1 2 1 1 2 1 2 1 3 1]\n",
      "[1 2 1 1 2 1 2 1 3 1]\n"
     ]
    }
   ],
   "source": [
    "for i in range(10):\n",
    "    print(dataset.__getitem__(len(dataset.peak_ix_to_pos) + 5)[\"1/DNA_regions\"][:10])\n",
    "\n",
    "#! clearly deterministic!!! \n"
   ]
  },
  {
   "cell_type": "code",
   "execution_count": null,
   "id": "62e79ae8",
   "metadata": {},
   "outputs": [
    {
     "name": "stdout",
     "output_type": "stream",
     "text": [
      "[3 0 2 2 0 3 0 0 3 3]\n",
      "[1 2 1 2 3 0 0 1 3 3]\n",
      "[1 1 2 1 2 3 0 0 1 3]\n",
      "[2 1 2 0 1 2 2 2 0 3]\n",
      "[3 3 0 1 2 1 3 3 0 1]\n",
      "[2 2 2 0 1 1 0 3 1 1]\n",
      "[1 2 1 1 2 1 2 1 3 1]\n",
      "[3 0 3 2 2 0 2 0 0 3]\n",
      "[3 0 0 1 3 3 2 1 3 2]\n",
      "[1 3 2 1 2 1 1 2 1 2]\n"
     ]
    }
   ],
   "source": [
    "for i in range(10):\n",
    "    print(dataset_2.__getitem__(len(dataset.peak_ix_to_pos) + 5)[\"1/DNA_regions\"][:10])\n",
    "\n",
    "#! clearly NOT deterministic!!! \n"
   ]
  }
 ],
 "metadata": {
  "kernelspec": {
   "display_name": "Negs",
   "language": "python",
   "name": "python3"
  },
  "language_info": {
   "codemirror_mode": {
    "name": "ipython",
    "version": 3
   },
   "file_extension": ".py",
   "mimetype": "text/x-python",
   "name": "python",
   "nbconvert_exporter": "python",
   "pygments_lexer": "ipython3",
   "version": "3.11.12"
  }
 },
 "nbformat": 4,
 "nbformat_minor": 5
}
