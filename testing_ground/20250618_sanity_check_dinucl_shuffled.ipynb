{
 "cells": [
  {
   "cell_type": "code",
   "execution_count": 2,
   "id": "fc4bc4ad",
   "metadata": {},
   "outputs": [],
   "source": [
    "import sys,string,random\n",
    "import subprocess"
   ]
  },
  {
   "cell_type": "code",
   "execution_count": 4,
   "id": "103199af",
   "metadata": {},
   "outputs": [],
   "source": [
    "def computeCountAndLists(s):\n",
    "  #WARNING: Use of function count(s,'UU') returns 1 on word UUU\n",
    "  #since it apparently counts only nonoverlapping words UU\n",
    "  #For this reason, we work with the indices.\n",
    "\n",
    "  #Initialize lists and mono- and dinucleotide dictionaries\n",
    "  List = {} #List is a dictionary of lists\n",
    "  List['A'] = []\n",
    "  List['C'] = []\n",
    "  List['G'] = []\n",
    "  List['T'] = []\n",
    "  List['N'] = []\n",
    "\n",
    "  nuclList   = [\"A\",\"C\",\"G\",\"T\",\"N\"]\n",
    "  s = s.upper()\n",
    "  s = s.replace(\"T\",\"T\")\n",
    "  nuclCnt = {}  #empty dictionary\n",
    "  dinuclCnt = {}  #empty dictionary\n",
    "  for x in nuclList:\n",
    "    nuclCnt[x]=0\n",
    "    dinuclCnt[x]={}\n",
    "    for y in nuclList:\n",
    "      dinuclCnt[x][y]=0\n",
    "\n",
    "  #Compute count and lists\n",
    "  nuclCnt[s[0]] = 1\n",
    "  nuclTotal     = 1\n",
    "  dinuclTotal   = 0\n",
    "  for i in range(len(s)-1):\n",
    "    x = s[i]; y = s[i+1]\n",
    "    List[x].append( y )\n",
    "    nuclCnt[y] += 1; nuclTotal  += 1\n",
    "    dinuclCnt[x][y] += 1; dinuclTotal += 1\n",
    "  assert (nuclTotal==len(s))\n",
    "  assert (dinuclTotal==len(s)-1)\n",
    "  return nuclCnt,dinuclCnt,List\n",
    " \n",
    " \n",
    "def chooseEdge(x,dinuclCnt):\n",
    "  numInList = 0\n",
    "  for y in ['A','C','G','T','N']:\n",
    "    numInList += dinuclCnt[x][y]\n",
    "  z = random.random()\n",
    "  denom=dinuclCnt[x]['A']+dinuclCnt[x]['C']+dinuclCnt[x]['G']+dinuclCnt[x]['T']+dinuclCnt[x]['N']\n",
    "  numerator = dinuclCnt[x]['A']\n",
    "  if z < float(numerator)/float(denom):\n",
    "    dinuclCnt[x]['A'] -= 1\n",
    "    return 'A'\n",
    "  numerator += dinuclCnt[x]['C']\n",
    "  if z < float(numerator)/float(denom):\n",
    "    dinuclCnt[x]['C'] -= 1\n",
    "    return 'C'\n",
    "  numerator += dinuclCnt[x]['N']\n",
    "  if z < float(numerator)/float(denom):\n",
    "    dinuclCnt[x]['N'] -= 1\n",
    "    return 'N'\n",
    "  numerator += dinuclCnt[x]['G']\n",
    "  if z < float(numerator)/float(denom):\n",
    "    dinuclCnt[x]['G'] -= 1\n",
    "    return 'G'\n",
    "  dinuclCnt[x]['T'] -= 1\n",
    "  return 'T'\n",
    "\n",
    "\n",
    "def connectedToLast(edgeList,nuclList,lastCh):\n",
    "  D = {}\n",
    "  for x in nuclList: D[x]=0\n",
    "  for edge in edgeList:\n",
    "    a = edge[0]; b = edge[1]\n",
    "    if b==lastCh: D[a]=1\n",
    "  for i in range(2):\n",
    "    for edge in edgeList:\n",
    "      a = edge[0]; b = edge[1]\n",
    "      if D[b]==1: D[a]=1\n",
    "  ok = 0\n",
    "  for x in nuclList:\n",
    "    if x!=lastCh and D[x]==0: return 0\n",
    "  return 1\n",
    " \n",
    "\n",
    "def eulerian(s):\n",
    "  nuclCnt,dinuclCnt,List = computeCountAndLists(s)\n",
    "  #compute nucleotides appearing in s\n",
    "  nuclList = []\n",
    "  for x in [\"A\",\"C\",\"G\",\"T\",\"N\"]:\n",
    "    if x in s: nuclList.append(x)\n",
    "  #compute numInList[x] = number of dinucleotides beginning with x\n",
    "  numInList = {}\n",
    "  for x in nuclList:\n",
    "    numInList[x]=0\n",
    "    for y in nuclList:\n",
    "      numInList[x] += dinuclCnt[x][y]\n",
    "  #create dinucleotide shuffle L \n",
    "  firstCh = s[0]  #start with first letter of s\n",
    "  lastCh  = s[-1]\n",
    "  edgeList = []\n",
    "  for x in nuclList:\n",
    "    if x!= lastCh: edgeList.append( [x,chooseEdge(x,dinuclCnt)] )\n",
    "  ok = connectedToLast(edgeList,nuclList,lastCh)\n",
    "  return ok,edgeList,nuclList,lastCh\n",
    "\n",
    "\n",
    "def shuffleEdgeList(L):\n",
    "  n = len(L); barrier = n\n",
    "  for i in range(n-1):\n",
    "    z = int(random.random() * barrier)\n",
    "    tmp = L[z]\n",
    "    L[z]= L[barrier-1]\n",
    "    L[barrier-1] = tmp\n",
    "    barrier -= 1\n",
    "  return L\n",
    "\n",
    "\n",
    "def dinuclShuffle(s):\n",
    "  ok = 0\n",
    "  while not ok:\n",
    "    ok,edgeList,nuclList,lastCh = eulerian(s)\n",
    "  nuclCnt,dinuclCnt,List = computeCountAndLists(s)\n",
    "\n",
    "  #remove last edges from each vertex list, shuffle, then add back\n",
    "  #the removed edges at end of vertex lists.\n",
    "  for [x,y] in edgeList: List[x].remove(y)\n",
    "  for x in nuclList: shuffleEdgeList(List[x])\n",
    "  for [x,y] in edgeList: List[x].append(y)\n",
    "\n",
    "  #construct the eulerian path\n",
    "  L = [s[0]]; prevCh = s[0]\n",
    "  for i in range(len(s)-2):\n",
    "    ch = List[prevCh][0] \n",
    "    L.append( ch )\n",
    "    del List[prevCh][0]\n",
    "    prevCh = ch\n",
    "  L.append(s[-1])\n",
    "  t = \"\".join(L)\n",
    "  return t\n"
   ]
  },
  {
   "cell_type": "code",
   "execution_count": 6,
   "id": "4468b72b",
   "metadata": {},
   "outputs": [
    {
     "name": "stdout",
     "output_type": "stream",
     "text": [
      "Number of sequences where dinucleotide frequencies match: 10000 out of 10000\n"
     ]
    }
   ],
   "source": [
    "# Generate 10,000 random DNA strings, shuffle them, and compare dinucleotide frequencies for each sequence\n",
    "\n",
    "def random_dna_string(length):\n",
    "    return ''.join(random.choices('ACGT', k=length))\n",
    "\n",
    "num_sequences = 10000\n",
    "seq_length = 100  # You can adjust the length as needed\n",
    "\n",
    "matches = 0\n",
    "\n",
    "for _ in range(num_sequences):\n",
    "    seq = random_dna_string(seq_length)\n",
    "    shuffled_seq = dinuclShuffle(seq)\n",
    "    # Count dinucleotides in original\n",
    "    orig_freq = {}\n",
    "    shuf_freq = {}\n",
    "    for x in 'ACGT':\n",
    "        for y in 'ACGT':\n",
    "            orig_freq[x+y] = 0\n",
    "            shuf_freq[x+y] = 0\n",
    "    for i in range(len(seq)-1):\n",
    "        orig_freq[seq[i:i+2]] += 1\n",
    "        shuf_freq[shuffled_seq[i:i+2]] += 1\n",
    "    if orig_freq == shuf_freq:\n",
    "        matches += 1\n",
    "\n",
    "print(f\"Number of sequences where dinucleotide frequencies match: {matches} out of {num_sequences}\")\n"
   ]
  },
  {
   "cell_type": "code",
   "execution_count": 7,
   "id": "7eba0fae",
   "metadata": {},
   "outputs": [
    {
     "data": {
      "text/plain": [
       "'TTGAGCCGGTGTCAGGCTCTCTCATTAGTTATAGGGGAATTGCGGGCAGGATTTCTATAGCATAATCATTATCTCTCATCGACGGAGTATGGGAAGCGAG'"
      ]
     },
     "execution_count": 7,
     "metadata": {},
     "output_type": "execute_result"
    }
   ],
   "source": [
    "seq"
   ]
  },
  {
   "cell_type": "code",
   "execution_count": 8,
   "id": "f2165f99",
   "metadata": {},
   "outputs": [
    {
     "data": {
      "text/plain": [
       "'TATTCATGAACTCATTATGCTTATAGGAGATCTTCTGGATCTAGCGGTCGTTGGCAGAAAGGGGATAGCATAGGGTTCTAGTCATCAGCGATTCGGGCCG'"
      ]
     },
     "execution_count": 8,
     "metadata": {},
     "output_type": "execute_result"
    }
   ],
   "source": [
    "shuffled_seq"
   ]
  },
  {
   "cell_type": "code",
   "execution_count": 9,
   "id": "f1a0b63e",
   "metadata": {},
   "outputs": [
    {
     "data": {
      "text/plain": [
       "{'AA': 3,\n",
       " 'AC': 1,\n",
       " 'AG': 9,\n",
       " 'AT': 11,\n",
       " 'CA': 6,\n",
       " 'CC': 1,\n",
       " 'CG': 5,\n",
       " 'CT': 6,\n",
       " 'GA': 7,\n",
       " 'GC': 6,\n",
       " 'GG': 11,\n",
       " 'GT': 4,\n",
       " 'TA': 8,\n",
       " 'TC': 10,\n",
       " 'TG': 4,\n",
       " 'TT': 7}"
      ]
     },
     "execution_count": 9,
     "metadata": {},
     "output_type": "execute_result"
    }
   ],
   "source": [
    "orig_freq"
   ]
  },
  {
   "cell_type": "code",
   "execution_count": 10,
   "id": "d066c9c5",
   "metadata": {},
   "outputs": [
    {
     "data": {
      "text/plain": [
       "{'AA': 3,\n",
       " 'AC': 1,\n",
       " 'AG': 9,\n",
       " 'AT': 11,\n",
       " 'CA': 6,\n",
       " 'CC': 1,\n",
       " 'CG': 5,\n",
       " 'CT': 6,\n",
       " 'GA': 7,\n",
       " 'GC': 6,\n",
       " 'GG': 11,\n",
       " 'GT': 4,\n",
       " 'TA': 8,\n",
       " 'TC': 10,\n",
       " 'TG': 4,\n",
       " 'TT': 7}"
      ]
     },
     "execution_count": 10,
     "metadata": {},
     "output_type": "execute_result"
    }
   ],
   "source": [
    "shuf_freq"
   ]
  }
 ],
 "metadata": {
  "kernelspec": {
   "display_name": "Negs",
   "language": "python",
   "name": "python3"
  },
  "language_info": {
   "codemirror_mode": {
    "name": "ipython",
    "version": 3
   },
   "file_extension": ".py",
   "mimetype": "text/x-python",
   "name": "python",
   "nbconvert_exporter": "python",
   "pygments_lexer": "ipython3",
   "version": "3.11.12"
  }
 },
 "nbformat": 4,
 "nbformat_minor": 5
}
