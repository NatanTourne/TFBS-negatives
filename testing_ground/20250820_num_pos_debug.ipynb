{
 "cells": [
  {
   "cell_type": "code",
   "execution_count": 1,
   "id": "b63a81f3",
   "metadata": {},
   "outputs": [
    {
     "name": "stderr",
     "output_type": "stream",
     "text": [
      "/data/home/natant/anaconda3/envs/Negs/lib/python3.11/site-packages/tqdm/auto.py:21: TqdmWarning: IProgress not found. Please update jupyter and ipywidgets. See https://ipywidgets.readthedocs.io/en/stable/user_install.html\n",
      "  from .autonotebook import tqdm as notebook_tqdm\n"
     ]
    }
   ],
   "source": [
    "from TFBS_negatives.data import DataModule\n"
   ]
  },
  {
   "cell_type": "code",
   "execution_count": 2,
   "id": "5b4deeab",
   "metadata": {},
   "outputs": [
    {
     "ename": "ValueError",
     "evalue": "Number of positives is less than or equal to max_positives, no need to limit.",
     "output_type": "error",
     "traceback": [
      "\u001b[31m---------------------------------------------------------------------------\u001b[39m",
      "\u001b[31mValueError\u001b[39m                                Traceback (most recent call last)",
      "\u001b[36mCell\u001b[39m\u001b[36m \u001b[39m\u001b[32mIn[2]\u001b[39m\u001b[32m, line 4\u001b[39m\n\u001b[32m      2\u001b[39m celltype = \u001b[33m\"\u001b[39m\u001b[33mHepG2\u001b[39m\u001b[33m\"\u001b[39m\n\u001b[32m      3\u001b[39m file = \u001b[33mf\u001b[39m\u001b[33m\"\u001b[39m\u001b[38;5;132;01m{\u001b[39;00mdatafolder\u001b[38;5;132;01m}\u001b[39;00m\u001b[33m/\u001b[39m\u001b[38;5;132;01m{\u001b[39;00mcelltype\u001b[38;5;132;01m}\u001b[39;00m\u001b[33m.h5t\u001b[39m\u001b[33m\"\u001b[39m\n\u001b[32m----> \u001b[39m\u001b[32m4\u001b[39m Dmod = \u001b[43mDataModule\u001b[49m\u001b[43m(\u001b[49m\u001b[43mfile\u001b[49m\u001b[43m,\u001b[49m\u001b[43m \u001b[49m\u001b[43mTF\u001b[49m\u001b[43m=\u001b[49m\u001b[33;43m\"\u001b[39;49m\u001b[33;43mFOSL2\u001b[39;49m\u001b[33;43m\"\u001b[39;49m\u001b[43m,\u001b[49m\u001b[43m \u001b[49m\u001b[43mbatch_size\u001b[49m\u001b[43m=\u001b[49m\u001b[32;43m256\u001b[39;49m\u001b[43m,\u001b[49m\u001b[43m \u001b[49m\u001b[43mneg_mode\u001b[49m\u001b[43m=\u001b[49m\u001b[33;43m\"\u001b[39;49m\u001b[33;43mcelltype\u001b[39;49m\u001b[33;43m\"\u001b[39;49m\u001b[43m,\u001b[49m\u001b[43m \u001b[49m\u001b[43mcross_val_set\u001b[49m\u001b[43m=\u001b[49m\u001b[32;43m0\u001b[39;49m\u001b[43m,\u001b[49m\u001b[43m \u001b[49m\u001b[43mmax_positives\u001b[49m\u001b[43m=\u001b[49m\u001b[32;43m10000\u001b[39;49m\u001b[43m)\u001b[49m\n",
      "\u001b[36mFile \u001b[39m\u001b[32m~/Negatives/TFBS_negatives/TFBS_negatives/data.py:569\u001b[39m, in \u001b[36mDataModule.__init__\u001b[39m\u001b[34m(self, h5torch_file, TF, batch_size, neg_mode, cross_val_set, max_positives)\u001b[39m\n\u001b[32m    566\u001b[39m     \u001b[38;5;28mself\u001b[39m.HQ_val_data = HQ_dataset(f, TF=TF, subset=all_orderings[cross_val_set][\u001b[32m1\u001b[39m])\n\u001b[32m    568\u001b[39m \u001b[38;5;28;01melse\u001b[39;00m:\n\u001b[32m--> \u001b[39m\u001b[32m569\u001b[39m     \u001b[38;5;28mself\u001b[39m.train_data = \u001b[43mneg_class\u001b[49m\u001b[43m(\u001b[49m\u001b[43mf\u001b[49m\u001b[43m,\u001b[49m\u001b[43m \u001b[49m\u001b[43mTF\u001b[49m\u001b[43m=\u001b[49m\u001b[43mTF\u001b[49m\u001b[43m,\u001b[49m\u001b[43m \u001b[49m\u001b[43msubset\u001b[49m\u001b[43m=\u001b[49m\u001b[43mall_orderings\u001b[49m\u001b[43m[\u001b[49m\u001b[43mcross_val_set\u001b[49m\u001b[43m]\u001b[49m\u001b[43m[\u001b[49m\u001b[32;43m0\u001b[39;49m\u001b[43m]\u001b[49m\u001b[43m,\u001b[49m\u001b[43m \u001b[49m\u001b[43mmax_positives\u001b[49m\u001b[43m=\u001b[49m\u001b[43mmax_positives\u001b[49m\u001b[43m)\u001b[49m\n\u001b[32m    570\u001b[39m     \u001b[38;5;28mself\u001b[39m.val_data = neg_class(f, TF=TF, subset=all_orderings[cross_val_set][\u001b[32m1\u001b[39m], max_positives=max_positives)\n\u001b[32m    571\u001b[39m     \u001b[38;5;28mself\u001b[39m.HQ_val_data = HQ_dataset(f, TF=TF, subset=all_orderings[cross_val_set][\u001b[32m1\u001b[39m])\n",
      "\u001b[36mFile \u001b[39m\u001b[32m~/Negatives/TFBS_negatives/TFBS_negatives/data.py:651\u001b[39m, in \u001b[36mcreate_limited_dataset.<locals>.LimitedDataset.__init__\u001b[39m\u001b[34m(self, max_positives, *args, **kwargs)\u001b[39m\n\u001b[32m    649\u001b[39m \u001b[38;5;66;03m# Apply limitations if max_positives is specified\u001b[39;00m\n\u001b[32m    650\u001b[39m \u001b[38;5;28;01mif\u001b[39;00m max_positives \u001b[38;5;129;01mis\u001b[39;00m \u001b[38;5;129;01mnot\u001b[39;00m \u001b[38;5;28;01mNone\u001b[39;00m:\n\u001b[32m--> \u001b[39m\u001b[32m651\u001b[39m     \u001b[38;5;28;43mself\u001b[39;49m\u001b[43m.\u001b[49m\u001b[43m_apply_limitations\u001b[49m\u001b[43m(\u001b[49m\u001b[43mmax_positives\u001b[49m\u001b[43m)\u001b[49m\n",
      "\u001b[36mFile \u001b[39m\u001b[32m~/Negatives/TFBS_negatives/TFBS_negatives/data.py:658\u001b[39m, in \u001b[36mcreate_limited_dataset.<locals>.LimitedDataset._apply_limitations\u001b[39m\u001b[34m(self, max_positives)\u001b[39m\n\u001b[32m    655\u001b[39m \u001b[38;5;66;03m# Handle datasets with explicit positive/negative structure\u001b[39;00m\n\u001b[32m    656\u001b[39m \u001b[38;5;28;01mif\u001b[39;00m \u001b[38;5;28mhasattr\u001b[39m(\u001b[38;5;28mself\u001b[39m, \u001b[33m'\u001b[39m\u001b[33mpeak_ix_to_pos\u001b[39m\u001b[33m'\u001b[39m) \u001b[38;5;129;01mand\u001b[39;00m \u001b[38;5;28mhasattr\u001b[39m(\u001b[38;5;28mself\u001b[39m, \u001b[33m'\u001b[39m\u001b[33mneg_len\u001b[39m\u001b[33m'\u001b[39m):\n\u001b[32m    657\u001b[39m     \u001b[38;5;66;03m# For datasets like dinucl_shuffled_negs, dinucl_sampled_negs, celltype_negatives\u001b[39;00m\n\u001b[32m--> \u001b[39m\u001b[32m658\u001b[39m     \u001b[38;5;28;43mself\u001b[39;49m\u001b[43m.\u001b[49m\u001b[43m_limit_pos_neg_structure\u001b[49m\u001b[43m(\u001b[49m\u001b[43mmax_positives\u001b[49m\u001b[43m)\u001b[49m\n\u001b[32m    660\u001b[39m \u001b[38;5;28;01melif\u001b[39;00m \u001b[38;5;28mhasattr\u001b[39m(\u001b[38;5;28mself\u001b[39m, \u001b[33m'\u001b[39m\u001b[33mpeak_ix_to_pos\u001b[39m\u001b[33m'\u001b[39m):\n\u001b[32m    661\u001b[39m     \u001b[38;5;66;03m# For datasets like shuffled_negs, neighbor_negs (balanced by design)\u001b[39;00m\n\u001b[32m    662\u001b[39m     \u001b[38;5;28mself\u001b[39m._limit_balanced_structure(max_positives)\n",
      "\u001b[36mFile \u001b[39m\u001b[32m~/Negatives/TFBS_negatives/TFBS_negatives/data.py:720\u001b[39m, in \u001b[36mcreate_limited_dataset.<locals>.LimitedDataset._limit_pos_neg_structure\u001b[39m\u001b[34m(self, max_positives)\u001b[39m\n\u001b[32m    718\u001b[39m         \u001b[38;5;28mself\u001b[39m.neg_len = \u001b[38;5;28mlen\u001b[39m(\u001b[38;5;28mself\u001b[39m.neg_indices)\n\u001b[32m    719\u001b[39m \u001b[38;5;28;01melse\u001b[39;00m:\n\u001b[32m--> \u001b[39m\u001b[32m720\u001b[39m     \u001b[38;5;28;01mraise\u001b[39;00m \u001b[38;5;167;01mValueError\u001b[39;00m(\u001b[33m\"\u001b[39m\u001b[33mNumber of positives is less than or equal to max_positives, no need to limit.\u001b[39m\u001b[33m\"\u001b[39m)\n",
      "\u001b[31mValueError\u001b[39m: Number of positives is less than or equal to max_positives, no need to limit."
     ]
    }
   ],
   "source": [
    "datafolder = \"/data/home/natant/Negatives/Data/Encode690/ENCODE_hg38_subset_101bp_celltypes_ATAC_H5_all_chr copy/\"\n",
    "celltype = \"HepG2\"\n",
    "file = f\"{datafolder}/{celltype}.h5t\"\n",
    "Dmod = DataModule(file, TF=\"FOSL2\", batch_size=256, neg_mode=\"celltype\", cross_val_set=0, max_positives=10000)"
   ]
  },
  {
   "cell_type": "code",
   "execution_count": null,
   "id": "0efb8384",
   "metadata": {},
   "outputs": [],
   "source": [
    "Dmod"
   ]
  }
 ],
 "metadata": {
  "kernelspec": {
   "display_name": "Negs",
   "language": "python",
   "name": "python3"
  },
  "language_info": {
   "codemirror_mode": {
    "name": "ipython",
    "version": 3
   },
   "file_extension": ".py",
   "mimetype": "text/x-python",
   "name": "python",
   "nbconvert_exporter": "python",
   "pygments_lexer": "ipython3",
   "version": "3.11.12"
  }
 },
 "nbformat": 4,
 "nbformat_minor": 5
}
