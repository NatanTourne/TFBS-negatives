{
 "cells": [
  {
   "cell_type": "code",
   "execution_count": 2,
   "metadata": {},
   "outputs": [],
   "source": [
    "import pandas as pd"
   ]
  },
  {
   "cell_type": "code",
   "execution_count": 3,
   "metadata": {},
   "outputs": [],
   "source": [
    "data_folder = '/data/home/natant/Negatives/Data/Encode690/filtered_hg38'\n",
    "metadata_file = \"/data/home/natant/Negatives/Data/Encode690/filtered_hg38/metadata.csv\"\n",
    "metadata_maxatac_file = \"/data/home/natant/Negatives/Data/maxATAC/maxatac_chip.csv\"\n"
   ]
  },
  {
   "cell_type": "code",
   "execution_count": 7,
   "metadata": {},
   "outputs": [],
   "source": [
    "maxatac_info = pd.read_csv(metadata_maxatac_file, sep='\\t')\n",
    "maxatac_info = maxatac_info[maxatac_info[\"src\"] == \"ENCODE\"]\n",
    "\n",
    "chip_info = pd.read_csv(metadata_file)"
   ]
  },
  {
   "cell_type": "code",
   "execution_count": 9,
   "metadata": {},
   "outputs": [
    {
     "data": {
      "text/plain": [
       "Index(['project', 'lab', 'composite', 'dataType', 'view', 'cell', 'treatment',\n",
       "       'antibody', 'control', 'dataVersion', 'dccAccession', 'controlId',\n",
       "       'quality', 'tableName', 'type', 'md5sum', 'size', 'filename',\n",
       "       'antibody_base', 'cell_base', 'maxatac_cell', 'df_cell', 'maxatac_tf',\n",
       "       'df_tf'],\n",
       "      dtype='object')"
      ]
     },
     "execution_count": 9,
     "metadata": {},
     "output_type": "execute_result"
    }
   ],
   "source": [
    "chip_info.columns"
   ]
  }
 ],
 "metadata": {
  "kernelspec": {
   "display_name": "plmbind4",
   "language": "python",
   "name": "python3"
  },
  "language_info": {
   "codemirror_mode": {
    "name": "ipython",
    "version": 3
   },
   "file_extension": ".py",
   "mimetype": "text/x-python",
   "name": "python",
   "nbconvert_exporter": "python",
   "pygments_lexer": "ipython3",
   "version": "3.11.9"
  }
 },
 "nbformat": 4,
 "nbformat_minor": 2
}
