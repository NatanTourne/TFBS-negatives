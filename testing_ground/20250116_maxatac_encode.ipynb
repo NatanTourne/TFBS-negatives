{
 "cells": [
  {
   "cell_type": "code",
   "execution_count": 1,
   "metadata": {},
   "outputs": [],
   "source": [
    "import pandas as pd"
   ]
  },
  {
   "cell_type": "code",
   "execution_count": 2,
   "metadata": {},
   "outputs": [
    {
     "data": {
      "text/plain": [
       "(463, 5)"
      ]
     },
     "execution_count": 2,
     "metadata": {},
     "output_type": "execute_result"
    }
   ],
   "source": [
    "info_path = \"/data/home/natant/Negatives/Data/maxATAC/maxatac_chip.csv\"\n",
    "info = pd.read_csv(info_path, sep=\"\\t\")\n",
    "info.shape"
   ]
  },
  {
   "cell_type": "code",
   "execution_count": 3,
   "metadata": {},
   "outputs": [
    {
     "data": {
      "text/html": [
       "<div>\n",
       "<style scoped>\n",
       "    .dataframe tbody tr th:only-of-type {\n",
       "        vertical-align: middle;\n",
       "    }\n",
       "\n",
       "    .dataframe tbody tr th {\n",
       "        vertical-align: top;\n",
       "    }\n",
       "\n",
       "    .dataframe thead th {\n",
       "        text-align: right;\n",
       "    }\n",
       "</style>\n",
       "<table border=\"1\" class=\"dataframe\">\n",
       "  <thead>\n",
       "    <tr style=\"text-align: right;\">\n",
       "      <th></th>\n",
       "      <th>id</th>\n",
       "      <th>geo</th>\n",
       "      <th>src</th>\n",
       "      <th>tf</th>\n",
       "      <th>cell</th>\n",
       "    </tr>\n",
       "  </thead>\n",
       "  <tbody>\n",
       "    <tr>\n",
       "      <th>0</th>\n",
       "      <td>ENCFF737RQV</td>\n",
       "      <td>GSE96480</td>\n",
       "      <td>ENCODE</td>\n",
       "      <td>MBD2</td>\n",
       "      <td>MCF-7</td>\n",
       "    </tr>\n",
       "    <tr>\n",
       "      <th>1</th>\n",
       "      <td>ENCFF092MMG</td>\n",
       "      <td>GSE96461</td>\n",
       "      <td>ENCODE</td>\n",
       "      <td>CREM</td>\n",
       "      <td>HepG2</td>\n",
       "    </tr>\n",
       "    <tr>\n",
       "      <th>2</th>\n",
       "      <td>ENCFF185LJE</td>\n",
       "      <td>GSE96455</td>\n",
       "      <td>ENCODE</td>\n",
       "      <td>JUNB</td>\n",
       "      <td>GM12878</td>\n",
       "    </tr>\n",
       "    <tr>\n",
       "      <th>3</th>\n",
       "      <td>ENCFF254BDZ</td>\n",
       "      <td>GSE96441</td>\n",
       "      <td>ENCODE</td>\n",
       "      <td>ZHX2</td>\n",
       "      <td>MCF-7</td>\n",
       "    </tr>\n",
       "    <tr>\n",
       "      <th>4</th>\n",
       "      <td>ENCFF401GJM</td>\n",
       "      <td>GSE96429</td>\n",
       "      <td>ENCODE</td>\n",
       "      <td>TCF7</td>\n",
       "      <td>K562</td>\n",
       "    </tr>\n",
       "    <tr>\n",
       "      <th>...</th>\n",
       "      <td>...</td>\n",
       "      <td>...</td>\n",
       "      <td>...</td>\n",
       "      <td>...</td>\n",
       "      <td>...</td>\n",
       "    </tr>\n",
       "    <tr>\n",
       "      <th>366</th>\n",
       "      <td>ENCFF762CTH</td>\n",
       "      <td>GSM1003605</td>\n",
       "      <td>ENCODE</td>\n",
       "      <td>ESRRA</td>\n",
       "      <td>GM12878</td>\n",
       "    </tr>\n",
       "    <tr>\n",
       "      <th>367</th>\n",
       "      <td>ENCFF781JQX</td>\n",
       "      <td>GSM1003604</td>\n",
       "      <td>ENCODE</td>\n",
       "      <td>CUX1</td>\n",
       "      <td>GM12878</td>\n",
       "    </tr>\n",
       "    <tr>\n",
       "      <th>368</th>\n",
       "      <td>ENCFF272RZS</td>\n",
       "      <td>GSM1003603</td>\n",
       "      <td>ENCODE</td>\n",
       "      <td>SREBF2</td>\n",
       "      <td>GM12878</td>\n",
       "    </tr>\n",
       "    <tr>\n",
       "      <th>369</th>\n",
       "      <td>ENCFF990JXT</td>\n",
       "      <td>GSM1003602</td>\n",
       "      <td>ENCODE</td>\n",
       "      <td>ZNF384</td>\n",
       "      <td>GM12878</td>\n",
       "    </tr>\n",
       "    <tr>\n",
       "      <th>370</th>\n",
       "      <td>ENCFF267QRI</td>\n",
       "      <td>GSM1003452</td>\n",
       "      <td>ENCODE</td>\n",
       "      <td>SETDB1</td>\n",
       "      <td>K562</td>\n",
       "    </tr>\n",
       "  </tbody>\n",
       "</table>\n",
       "<p>371 rows × 5 columns</p>\n",
       "</div>"
      ],
      "text/plain": [
       "              id         geo     src      tf     cell\n",
       "0    ENCFF737RQV    GSE96480  ENCODE    MBD2    MCF-7\n",
       "1    ENCFF092MMG    GSE96461  ENCODE    CREM    HepG2\n",
       "2    ENCFF185LJE    GSE96455  ENCODE    JUNB  GM12878\n",
       "3    ENCFF254BDZ    GSE96441  ENCODE    ZHX2    MCF-7\n",
       "4    ENCFF401GJM    GSE96429  ENCODE    TCF7     K562\n",
       "..           ...         ...     ...     ...      ...\n",
       "366  ENCFF762CTH  GSM1003605  ENCODE   ESRRA  GM12878\n",
       "367  ENCFF781JQX  GSM1003604  ENCODE    CUX1  GM12878\n",
       "368  ENCFF272RZS  GSM1003603  ENCODE  SREBF2  GM12878\n",
       "369  ENCFF990JXT  GSM1003602  ENCODE  ZNF384  GM12878\n",
       "370  ENCFF267QRI  GSM1003452  ENCODE  SETDB1     K562\n",
       "\n",
       "[371 rows x 5 columns]"
      ]
     },
     "execution_count": 3,
     "metadata": {},
     "output_type": "execute_result"
    }
   ],
   "source": [
    "info_encode = info[info[\"src\"] == \"ENCODE\"]\n",
    "info_encode"
   ]
  },
  {
   "cell_type": "code",
   "execution_count": 8,
   "metadata": {},
   "outputs": [
    {
     "data": {
      "text/plain": [
       "(371, 5)"
      ]
     },
     "execution_count": 8,
     "metadata": {},
     "output_type": "execute_result"
    }
   ],
   "source": [
    "info_encode.shape"
   ]
  },
  {
   "cell_type": "code",
   "execution_count": 16,
   "metadata": {},
   "outputs": [
    {
     "data": {
      "text/plain": [
       "(20,)"
      ]
     },
     "execution_count": 16,
     "metadata": {},
     "output_type": "execute_result"
    }
   ],
   "source": [
    "info[\"cell\"].unique().shape"
   ]
  }
 ],
 "metadata": {
  "kernelspec": {
   "display_name": "plmbind4",
   "language": "python",
   "name": "python3"
  },
  "language_info": {
   "codemirror_mode": {
    "name": "ipython",
    "version": 3
   },
   "file_extension": ".py",
   "mimetype": "text/x-python",
   "name": "python",
   "nbconvert_exporter": "python",
   "pygments_lexer": "ipython3",
   "version": "3.11.9"
  }
 },
 "nbformat": 4,
 "nbformat_minor": 2
}
