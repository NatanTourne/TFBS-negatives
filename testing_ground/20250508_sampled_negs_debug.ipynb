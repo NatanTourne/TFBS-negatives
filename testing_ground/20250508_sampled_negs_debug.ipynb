{
 "cells": [
  {
   "cell_type": "code",
   "execution_count": 1,
   "id": "b2945aa4",
   "metadata": {},
   "outputs": [
    {
     "name": "stderr",
     "output_type": "stream",
     "text": [
      "/data/home/natant/anaconda3/envs/Negs/lib/python3.11/site-packages/tqdm/auto.py:21: TqdmWarning: IProgress not found. Please update jupyter and ipywidgets. See https://ipywidgets.readthedocs.io/en/stable/user_install.html\n",
      "  from .autonotebook import tqdm as notebook_tqdm\n"
     ]
    }
   ],
   "source": [
    "import h5torch\n",
    "import numpy as np\n",
    "import torch\n",
    "import pytorch_lightning as pl\n",
    "import warnings\n",
    "from pytorch_lightning.callbacks import Callback"
   ]
  },
  {
   "cell_type": "code",
   "execution_count": 2,
   "id": "c534874d",
   "metadata": {},
   "outputs": [],
   "source": [
    "celltype_file = \"/data/home/natant/Negatives/Data/Encode690/ENCODE_hg38_subset_101bp_celltypes_ATAC_H5_all_chr/A549.h5t\"\n",
    "file = h5torch.File(celltype_file, 'r')\n"
   ]
  },
  {
   "cell_type": "code",
   "execution_count": 3,
   "id": "f4cbb96c",
   "metadata": {},
   "outputs": [
    {
     "data": {
      "text/plain": [
       "<KeysViewHDF5 ['chr1', 'chr10', 'chr10_GL383545v1_alt', 'chr10_GL383546v1_alt', 'chr10_KI270824v1_alt', 'chr10_KI270825v1_alt', 'chr11', 'chr11_GL383547v1_alt', 'chr11_JH159136v1_alt', 'chr11_JH159137v1_alt', 'chr11_KI270721v1_random', 'chr11_KI270826v1_alt', 'chr11_KI270827v1_alt', 'chr11_KI270829v1_alt', 'chr11_KI270830v1_alt', 'chr11_KI270831v1_alt', 'chr11_KI270832v1_alt', 'chr11_KI270902v1_alt', 'chr11_KI270903v1_alt', 'chr11_KI270927v1_alt', 'chr12', 'chr12_GL383549v1_alt', 'chr12_GL383550v2_alt', 'chr12_GL383551v1_alt', 'chr12_GL383552v1_alt', 'chr12_GL383553v2_alt', 'chr12_GL877875v1_alt', 'chr12_GL877876v1_alt', 'chr12_KI270833v1_alt', 'chr12_KI270834v1_alt', 'chr12_KI270835v1_alt', 'chr12_KI270836v1_alt', 'chr12_KI270837v1_alt', 'chr12_KI270904v1_alt', 'chr13', 'chr13_KI270838v1_alt', 'chr13_KI270839v1_alt', 'chr13_KI270840v1_alt', 'chr13_KI270841v1_alt', 'chr13_KI270842v1_alt', 'chr13_KI270843v1_alt', 'chr14', 'chr14_GL000009v2_random', 'chr14_GL000194v1_random', 'chr14_GL000225v1_random', 'chr14_KI270722v1_random', 'chr14_KI270723v1_random', 'chr14_KI270724v1_random', 'chr14_KI270725v1_random', 'chr14_KI270726v1_random', 'chr14_KI270844v1_alt', 'chr14_KI270845v1_alt', 'chr14_KI270846v1_alt', 'chr14_KI270847v1_alt', 'chr15', 'chr15_GL383554v1_alt', 'chr15_GL383555v2_alt', 'chr15_KI270727v1_random', 'chr15_KI270848v1_alt', 'chr15_KI270849v1_alt', 'chr15_KI270850v1_alt', 'chr15_KI270851v1_alt', 'chr15_KI270852v1_alt', 'chr15_KI270905v1_alt', 'chr15_KI270906v1_alt', 'chr16', 'chr16_GL383556v1_alt', 'chr16_GL383557v1_alt', 'chr16_KI270728v1_random', 'chr16_KI270853v1_alt', 'chr16_KI270854v1_alt', 'chr16_KI270855v1_alt', 'chr16_KI270856v1_alt', 'chr17', 'chr17_GL000205v2_random', 'chr17_GL000258v2_alt', 'chr17_GL383563v3_alt', 'chr17_GL383564v2_alt', 'chr17_GL383565v1_alt', 'chr17_GL383566v1_alt', 'chr17_JH159146v1_alt', 'chr17_JH159147v1_alt', 'chr17_JH159148v1_alt', 'chr17_KI270729v1_random', 'chr17_KI270730v1_random', 'chr17_KI270857v1_alt', 'chr17_KI270858v1_alt', 'chr17_KI270859v1_alt', 'chr17_KI270860v1_alt', 'chr17_KI270861v1_alt', 'chr17_KI270862v1_alt', 'chr17_KI270907v1_alt', 'chr17_KI270908v1_alt', 'chr17_KI270909v1_alt', 'chr17_KI270910v1_alt', 'chr18', 'chr18_GL383567v1_alt', 'chr18_GL383568v1_alt', 'chr18_GL383569v1_alt', 'chr18_GL383570v1_alt', 'chr18_GL383571v1_alt', 'chr18_GL383572v1_alt', 'chr18_KI270863v1_alt', 'chr18_KI270864v1_alt', 'chr18_KI270911v1_alt', 'chr18_KI270912v1_alt', 'chr19', 'chr19_GL000209v2_alt', 'chr19_GL383573v1_alt', 'chr19_GL383574v1_alt', 'chr19_GL383575v2_alt', 'chr19_GL383576v1_alt', 'chr19_GL949746v1_alt', 'chr19_GL949747v2_alt', 'chr19_GL949748v2_alt', 'chr19_GL949749v2_alt', 'chr19_GL949750v2_alt', 'chr19_GL949751v2_alt', 'chr19_GL949752v1_alt', 'chr19_GL949753v2_alt', 'chr19_KI270865v1_alt', 'chr19_KI270866v1_alt', 'chr19_KI270867v1_alt', 'chr19_KI270868v1_alt', 'chr19_KI270882v1_alt', 'chr19_KI270883v1_alt', 'chr19_KI270884v1_alt', 'chr19_KI270885v1_alt', 'chr19_KI270886v1_alt', 'chr19_KI270887v1_alt', 'chr19_KI270888v1_alt', 'chr19_KI270889v1_alt', 'chr19_KI270890v1_alt', 'chr19_KI270891v1_alt', 'chr19_KI270914v1_alt', 'chr19_KI270915v1_alt', 'chr19_KI270916v1_alt', 'chr19_KI270917v1_alt', 'chr19_KI270918v1_alt', 'chr19_KI270919v1_alt', 'chr19_KI270920v1_alt', 'chr19_KI270921v1_alt', 'chr19_KI270922v1_alt', 'chr19_KI270923v1_alt', 'chr19_KI270929v1_alt', 'chr19_KI270930v1_alt', 'chr19_KI270931v1_alt', 'chr19_KI270932v1_alt', 'chr19_KI270933v1_alt', 'chr19_KI270938v1_alt', 'chr1_GL383518v1_alt', 'chr1_GL383519v1_alt', 'chr1_GL383520v2_alt', 'chr1_KI270706v1_random', 'chr1_KI270707v1_random', 'chr1_KI270708v1_random', 'chr1_KI270709v1_random', 'chr1_KI270710v1_random', 'chr1_KI270711v1_random', 'chr1_KI270712v1_random', 'chr1_KI270713v1_random', 'chr1_KI270714v1_random', 'chr1_KI270759v1_alt', 'chr1_KI270760v1_alt', 'chr1_KI270761v1_alt', 'chr1_KI270762v1_alt', 'chr1_KI270763v1_alt', 'chr1_KI270764v1_alt', 'chr1_KI270765v1_alt', 'chr1_KI270766v1_alt', 'chr1_KI270892v1_alt', 'chr2', 'chr20', 'chr20_GL383577v2_alt', 'chr20_KI270869v1_alt', 'chr20_KI270870v1_alt', 'chr20_KI270871v1_alt', 'chr21', 'chr21_GL383578v2_alt', 'chr21_GL383579v2_alt', 'chr21_GL383580v2_alt', 'chr21_GL383581v2_alt', 'chr21_KI270872v1_alt', 'chr21_KI270873v1_alt', 'chr21_KI270874v1_alt', 'chr22', 'chr22_GL383582v2_alt', 'chr22_GL383583v2_alt', 'chr22_KB663609v1_alt', 'chr22_KI270731v1_random', 'chr22_KI270732v1_random', 'chr22_KI270733v1_random', 'chr22_KI270734v1_random', 'chr22_KI270735v1_random', 'chr22_KI270736v1_random', 'chr22_KI270737v1_random', 'chr22_KI270738v1_random', 'chr22_KI270739v1_random', 'chr22_KI270875v1_alt', 'chr22_KI270876v1_alt', 'chr22_KI270877v1_alt', 'chr22_KI270878v1_alt', 'chr22_KI270879v1_alt', 'chr22_KI270928v1_alt', 'chr2_GL383521v1_alt', 'chr2_GL383522v1_alt', 'chr2_GL582966v2_alt', 'chr2_KI270715v1_random', 'chr2_KI270716v1_random', 'chr2_KI270767v1_alt', 'chr2_KI270768v1_alt', 'chr2_KI270769v1_alt', 'chr2_KI270770v1_alt', 'chr2_KI270771v1_alt', 'chr2_KI270772v1_alt', 'chr2_KI270773v1_alt', 'chr2_KI270774v1_alt', 'chr2_KI270775v1_alt', 'chr2_KI270776v1_alt', 'chr2_KI270893v1_alt', 'chr2_KI270894v1_alt', 'chr3', 'chr3_GL000221v1_random', 'chr3_GL383526v1_alt', 'chr3_JH636055v2_alt', 'chr3_KI270777v1_alt', 'chr3_KI270778v1_alt', 'chr3_KI270779v1_alt', 'chr3_KI270780v1_alt', 'chr3_KI270781v1_alt', 'chr3_KI270782v1_alt', 'chr3_KI270783v1_alt', 'chr3_KI270784v1_alt', 'chr3_KI270895v1_alt', 'chr3_KI270924v1_alt', 'chr3_KI270934v1_alt', 'chr3_KI270935v1_alt', 'chr3_KI270936v1_alt', 'chr3_KI270937v1_alt', 'chr4', 'chr4_GL000008v2_random', 'chr4_GL000257v2_alt', 'chr4_GL383527v1_alt', 'chr4_GL383528v1_alt', 'chr4_KI270785v1_alt', 'chr4_KI270786v1_alt', 'chr4_KI270787v1_alt', 'chr4_KI270788v1_alt', 'chr4_KI270789v1_alt', 'chr4_KI270790v1_alt', 'chr4_KI270896v1_alt', 'chr4_KI270925v1_alt', 'chr5', 'chr5_GL000208v1_random', 'chr5_GL339449v2_alt', 'chr5_GL383530v1_alt', 'chr5_GL383531v1_alt', 'chr5_GL383532v1_alt', 'chr5_GL949742v1_alt', 'chr5_KI270791v1_alt', 'chr5_KI270792v1_alt', 'chr5_KI270793v1_alt', 'chr5_KI270794v1_alt', 'chr5_KI270795v1_alt', 'chr5_KI270796v1_alt', 'chr5_KI270897v1_alt', 'chr5_KI270898v1_alt', 'chr6', 'chr6_GL000250v2_alt', 'chr6_GL000251v2_alt', 'chr6_GL000252v2_alt', 'chr6_GL000253v2_alt', 'chr6_GL000254v2_alt', 'chr6_GL000255v2_alt', 'chr6_GL000256v2_alt', 'chr6_GL383533v1_alt', 'chr6_KB021644v2_alt', 'chr6_KI270758v1_alt', 'chr6_KI270797v1_alt', 'chr6_KI270798v1_alt', 'chr6_KI270799v1_alt', 'chr6_KI270800v1_alt', 'chr6_KI270801v1_alt', 'chr6_KI270802v1_alt', 'chr7', 'chr7_GL383534v2_alt', 'chr7_KI270803v1_alt', 'chr7_KI270804v1_alt', 'chr7_KI270805v1_alt', 'chr7_KI270806v1_alt', 'chr7_KI270807v1_alt', 'chr7_KI270808v1_alt', 'chr7_KI270809v1_alt', 'chr7_KI270899v1_alt', 'chr8', 'chr8_KI270810v1_alt', 'chr8_KI270811v1_alt', 'chr8_KI270812v1_alt', 'chr8_KI270813v1_alt', 'chr8_KI270814v1_alt', 'chr8_KI270815v1_alt', 'chr8_KI270816v1_alt', 'chr8_KI270817v1_alt', 'chr8_KI270818v1_alt', 'chr8_KI270819v1_alt', 'chr8_KI270820v1_alt', 'chr8_KI270821v1_alt', 'chr8_KI270822v1_alt', 'chr8_KI270900v1_alt', 'chr8_KI270901v1_alt', 'chr8_KI270926v1_alt', 'chr9', 'chr9_GL383539v1_alt', 'chr9_GL383540v1_alt', 'chr9_GL383541v1_alt', 'chr9_GL383542v1_alt', 'chr9_KI270717v1_random', 'chr9_KI270718v1_random', 'chr9_KI270719v1_random', 'chr9_KI270720v1_random', 'chr9_KI270823v1_alt', 'chrX', 'chrX_KI270880v1_alt', 'chrX_KI270881v1_alt', 'chrX_KI270913v1_alt', 'chrY', 'chrY_KI270740v1_random', 'dinucl_ATF3_chrs', 'dinucl_ATF3_seqs', 'dinucl_BHLHE40_chrs', 'dinucl_BHLHE40_seqs', 'dinucl_CREB1_(SC-240)_chrs', 'dinucl_CREB1_(SC-240)_seqs', 'dinucl_CTCF_chrs', 'dinucl_CTCF_seqs', 'dinucl_ELF1_(SC-631)_chrs', 'dinucl_ELF1_(SC-631)_seqs', 'dinucl_ETS1_chrs', 'dinucl_ETS1_seqs', 'dinucl_FOSL2_chrs', 'dinucl_FOSL2_seqs', 'dinucl_FOXA1_(SC-101058)_chrs', 'dinucl_FOXA1_(SC-101058)_seqs', 'dinucl_Max_chrs', 'dinucl_Max_seqs', 'dinucl_SIX5_chrs', 'dinucl_SIX5_seqs', 'dinucl_TCF12_chrs', 'dinucl_TCF12_seqs', 'dinucl_USF-1_chrs', 'dinucl_USF-1_seqs', 'dinucl_YY1_(SC-281)_chrs', 'dinucl_YY1_(SC-281)_seqs', 'dinucl_ZBTB33_chrs', 'dinucl_ZBTB33_seqs', 'sampled_negs_ATF3_chr', 'sampled_negs_ATF3_len', 'sampled_negs_ATF3_pos', 'sampled_negs_BHLHE40_chr', 'sampled_negs_BHLHE40_len', 'sampled_negs_BHLHE40_pos', 'sampled_negs_CREB1_chr', 'sampled_negs_CREB1_len', 'sampled_negs_CREB1_pos', 'sampled_negs_CTCF_chr', 'sampled_negs_CTCF_len', 'sampled_negs_CTCF_pos', 'sampled_negs_ELF1_chr', 'sampled_negs_ELF1_len', 'sampled_negs_ELF1_pos', 'sampled_negs_ETS1_chr', 'sampled_negs_ETS1_len', 'sampled_negs_ETS1_pos', 'sampled_negs_FOSL2_chr', 'sampled_negs_FOSL2_len', 'sampled_negs_FOSL2_pos', 'sampled_negs_FOXA1_chr', 'sampled_negs_FOXA1_len', 'sampled_negs_FOXA1_pos', 'sampled_negs_Max_chr', 'sampled_negs_Max_len', 'sampled_negs_Max_pos', 'sampled_negs_SIX5_chr', 'sampled_negs_SIX5_len', 'sampled_negs_SIX5_pos', 'sampled_negs_TCF12_chr', 'sampled_negs_TCF12_len', 'sampled_negs_TCF12_pos', 'sampled_negs_USF-1_chr', 'sampled_negs_USF-1_len', 'sampled_negs_USF-1_pos', 'sampled_negs_YY1_chr', 'sampled_negs_YY1_len', 'sampled_negs_YY1_pos', 'sampled_negs_ZBTB33_chr', 'sampled_negs_ZBTB33_len', 'sampled_negs_ZBTB33_pos']>"
      ]
     },
     "execution_count": 3,
     "metadata": {},
     "output_type": "execute_result"
    }
   ],
   "source": [
    "file[\"unstructured\"].keys()"
   ]
  },
  {
   "cell_type": "code",
   "execution_count": 1,
   "id": "d49fb0f6",
   "metadata": {},
   "outputs": [],
   "source": [
    "import os\n",
    "\n",
    "folder_path = \"/data/home/natant/Negatives/Data/Encode690/ENCODE_hg38_subset_101bp_celltypes_ATAC_H5_all_chr\"\n",
    "negative_bed_files = [f for f in os.listdir(folder_path) if f.endswith(\"negatives.bed\")]"
   ]
  },
  {
   "cell_type": "code",
   "execution_count": 3,
   "id": "e49ed7b9",
   "metadata": {},
   "outputs": [
    {
     "data": {
      "text/plain": [
       "['ATF3',\n",
       " 'ZNF274',\n",
       " 'ATF2_(SC-81188)',\n",
       " 'NF-YB',\n",
       " 'Max',\n",
       " 'NFIC_(SC-81335)',\n",
       " 'TCF12',\n",
       " 'FOSL1_(SC-183)',\n",
       " 'Znf143_(16618-1-AP)',\n",
       " 'MafK_(ab50322)',\n",
       " 'JunD',\n",
       " 'CEBPB_(SC-150)',\n",
       " 'ATF3',\n",
       " 'MafF_(M8194)',\n",
       " 'Mxi1_(AF4185)',\n",
       " 'YY1_(SC-281)',\n",
       " 'FOXA1_(SC-101058)',\n",
       " 'STAT5A_(SC-74442)',\n",
       " 'NF-YB',\n",
       " 'FOSL2',\n",
       " 'Mxi1_(AF4185)',\n",
       " 'IRF3',\n",
       " 'RFX5_(200-401-194)',\n",
       " 'TCF7L2',\n",
       " 'NR2F2_(SC-271940)',\n",
       " 'YY1_(SC-281)',\n",
       " 'MafK_(ab50322)',\n",
       " 'ZNF217',\n",
       " 'ATF1_(06-325)',\n",
       " 'FOXM1_(SC-502)',\n",
       " 'SP1',\n",
       " 'ELK1_(1277-1)',\n",
       " 'RFX5_(200-401-194)',\n",
       " 'FOSL2',\n",
       " 'TCF7L2',\n",
       " 'JunD',\n",
       " 'USF-1',\n",
       " 'Nrf1',\n",
       " 'SRF',\n",
       " 'ZBTB33',\n",
       " 'TBP',\n",
       " 'CTCF',\n",
       " 'CTCF',\n",
       " 'NF-YA',\n",
       " 'TBP',\n",
       " 'SRF',\n",
       " 'SIX5',\n",
       " 'MEF2A',\n",
       " 'Egr-1',\n",
       " 'JunD',\n",
       " 'ELF1_(SC-631)',\n",
       " 'STAT5A_(SC-74442)',\n",
       " 'IKZF1_(IkN)_(UCLA)',\n",
       " 'SIX5',\n",
       " 'Pbx3',\n",
       " 'TEAD4_(SC-101184)',\n",
       " 'Max',\n",
       " 'USF2',\n",
       " 'SRF',\n",
       " 'ETS1',\n",
       " 'CTCF',\n",
       " 'ELF1_(SC-631)',\n",
       " 'ZBTB33',\n",
       " 'MAZ_(ab85725)',\n",
       " 'CEBPB_(SC-150)',\n",
       " 'MYBL2_(SC-81192)',\n",
       " 'ATF3',\n",
       " 'BHLHE40',\n",
       " 'ZBTB7A_(SC-34508)',\n",
       " 'Egr-1',\n",
       " 'SETDB1',\n",
       " 'HSF1',\n",
       " 'ELF1_(SC-631)',\n",
       " 'BHLHE40',\n",
       " 'YY1_(SC-281)',\n",
       " 'ZBTB33',\n",
       " 'USF2',\n",
       " 'YY1_(SC-281)',\n",
       " 'SP1',\n",
       " 'ZEB1_(SC-25388)',\n",
       " 'TBP',\n",
       " 'ATF3',\n",
       " 'CEBPD_(SC-636)',\n",
       " 'ELK1_(1277-1)',\n",
       " 'TCF12',\n",
       " 'RFX5_(200-401-194)',\n",
       " 'CREB1_(SC-240)',\n",
       " 'USF-1',\n",
       " 'ZBTB33',\n",
       " 'Bach1_(sc-14700)',\n",
       " 'USF2',\n",
       " 'SIX5',\n",
       " 'SP1',\n",
       " 'ARID3A_(NB100-279)',\n",
       " 'MafK_(ab50322)',\n",
       " 'Mxi1_(AF4185)',\n",
       " 'MEF2A',\n",
       " 'NF-YA',\n",
       " 'MAZ_(ab85725)',\n",
       " 'ZNF274',\n",
       " 'ZNF274',\n",
       " 'TCF7L2',\n",
       " 'YY1_(SC-281)',\n",
       " 'RXRA',\n",
       " 'Max',\n",
       " 'MafF_(M8194)',\n",
       " 'CTCF',\n",
       " 'Nrf1',\n",
       " 'USF-1',\n",
       " 'CTCF',\n",
       " 'ETS1',\n",
       " 'GATA3_(SC-268)',\n",
       " 'Max',\n",
       " 'TCF12',\n",
       " 'RXRA',\n",
       " 'ELF1_(SC-631)',\n",
       " 'Znf143_(16618-1-AP)',\n",
       " 'ETS1',\n",
       " 'TCF7L2',\n",
       " 'TEAD4_(SC-101184)',\n",
       " 'MAZ_(ab85725)',\n",
       " 'TCF7L2',\n",
       " 'CTCF',\n",
       " 'CTCF',\n",
       " 'USF-1',\n",
       " 'ZBTB7A_(SC-34508)',\n",
       " 'ZBTB33',\n",
       " 'FOXA1_(SC-101058)',\n",
       " 'NFIC_(SC-81335)',\n",
       " 'CEBPB_(SC-150)',\n",
       " 'ZZZ3',\n",
       " 'Nrf1']"
      ]
     },
     "execution_count": 3,
     "metadata": {},
     "output_type": "execute_result"
    }
   ],
   "source": [
    "[\"_\".join(f.split(\"_\")[1:-3]) for f in negative_bed_files]"
   ]
  },
  {
   "cell_type": "code",
   "execution_count": null,
   "id": "97cc8251",
   "metadata": {},
   "outputs": [],
   "source": [
    "TF = \"_\".join(bed_file_name.split(\"_\")[1:-3])  # Capture the full TF name, even with underscores"
   ]
  }
 ],
 "metadata": {
  "kernelspec": {
   "display_name": "Negs",
   "language": "python",
   "name": "python3"
  },
  "language_info": {
   "codemirror_mode": {
    "name": "ipython",
    "version": 3
   },
   "file_extension": ".py",
   "mimetype": "text/x-python",
   "name": "python",
   "nbconvert_exporter": "python",
   "pygments_lexer": "ipython3",
   "version": "3.11.12"
  }
 },
 "nbformat": 4,
 "nbformat_minor": 5
}
